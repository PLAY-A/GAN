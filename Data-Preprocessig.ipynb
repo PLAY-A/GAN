{
 "cells": [
  {
   "cell_type": "code",
   "execution_count": 1,
   "metadata": {},
   "outputs": [
    {
     "ename": "ModuleNotFoundError",
     "evalue": "No module named 'seaborn'",
     "output_type": "error",
     "traceback": [
      "\u001b[1;31m---------------------------------------------------------------------------\u001b[0m",
      "\u001b[1;31mModuleNotFoundError\u001b[0m                       Traceback (most recent call last)",
      "Cell \u001b[1;32mIn[1], line 3\u001b[0m\n\u001b[0;32m      1\u001b[0m \u001b[39mimport\u001b[39;00m \u001b[39mpandas\u001b[39;00m \u001b[39mas\u001b[39;00m \u001b[39mpd\u001b[39;00m\n\u001b[0;32m      2\u001b[0m \u001b[39mimport\u001b[39;00m \u001b[39mnumpy\u001b[39;00m \u001b[39mas\u001b[39;00m \u001b[39mnp\u001b[39;00m\n\u001b[1;32m----> 3\u001b[0m \u001b[39mimport\u001b[39;00m \u001b[39mseaborn\u001b[39;00m \u001b[39mas\u001b[39;00m \u001b[39msns\u001b[39;00m\n\u001b[0;32m      4\u001b[0m \u001b[39mfrom\u001b[39;00m \u001b[39msklearn\u001b[39;00m\u001b[39m.\u001b[39;00m\u001b[39mmetrics\u001b[39;00m \u001b[39mimport\u001b[39;00m mean_absolute_error\n\u001b[0;32m      5\u001b[0m \u001b[39mfrom\u001b[39;00m \u001b[39msklearn\u001b[39;00m\u001b[39m.\u001b[39;00m\u001b[39mmetrics\u001b[39;00m \u001b[39mimport\u001b[39;00m mean_squared_error\n",
      "\u001b[1;31mModuleNotFoundError\u001b[0m: No module named 'seaborn'"
     ]
    }
   ],
   "source": [
    "import pandas as pd\n",
    "import numpy as np\n",
    "import seaborn as sns\n",
    "from sklearn.metrics import mean_absolute_error\n",
    "from sklearn.metrics import mean_squared_error\n",
    "from sklearn.metrics import r2_score\n",
    "from math import sqrt\n",
    "import matplotlib.pyplot as plt\n",
    "\n",
    "get_ipython().run_line_magic('matplotlib', 'inline')"
   ]
  },
  {
   "cell_type": "code",
   "execution_count": 109,
   "metadata": {},
   "outputs": [
    {
     "data": {
      "text/html": [
       "<div>\n",
       "<style scoped>\n",
       "    .dataframe tbody tr th:only-of-type {\n",
       "        vertical-align: middle;\n",
       "    }\n",
       "\n",
       "    .dataframe tbody tr th {\n",
       "        vertical-align: top;\n",
       "    }\n",
       "\n",
       "    .dataframe thead th {\n",
       "        text-align: right;\n",
       "    }\n",
       "</style>\n",
       "<table border=\"1\" class=\"dataframe\">\n",
       "  <thead>\n",
       "    <tr style=\"text-align: right;\">\n",
       "      <th></th>\n",
       "      <th>SL NO</th>\n",
       "      <th>From Date</th>\n",
       "      <th>PM2.5</th>\n",
       "      <th>PM10</th>\n",
       "      <th>NO</th>\n",
       "      <th>NO2</th>\n",
       "      <th>Nox</th>\n",
       "      <th>NH3</th>\n",
       "      <th>SO2</th>\n",
       "      <th>CO</th>\n",
       "      <th>Ozone</th>\n",
       "      <th>Benzene</th>\n",
       "      <th>Eth-Benzene</th>\n",
       "      <th>MP-Xylene</th>\n",
       "      <th>WS</th>\n",
       "      <th>WD</th>\n",
       "      <th>SR</th>\n",
       "      <th>BP</th>\n",
       "      <th>AT</th>\n",
       "      <th>RF</th>\n",
       "    </tr>\n",
       "  </thead>\n",
       "  <tbody>\n",
       "    <tr>\n",
       "      <th>0</th>\n",
       "      <td>1</td>\n",
       "      <td>18-02-2019 00:00</td>\n",
       "      <td>58.04</td>\n",
       "      <td>81.06</td>\n",
       "      <td>1.81</td>\n",
       "      <td>6.4</td>\n",
       "      <td>9.66</td>\n",
       "      <td>27.18</td>\n",
       "      <td>13.77</td>\n",
       "      <td>0.49</td>\n",
       "      <td>15.73</td>\n",
       "      <td>0.92</td>\n",
       "      <td>None</td>\n",
       "      <td>0.33</td>\n",
       "      <td>1.86</td>\n",
       "      <td>229.44</td>\n",
       "      <td>0.22</td>\n",
       "      <td>1002.19</td>\n",
       "      <td>20.87</td>\n",
       "      <td>0</td>\n",
       "    </tr>\n",
       "    <tr>\n",
       "      <th>1</th>\n",
       "      <td>2</td>\n",
       "      <td>18-02-2019 01:00</td>\n",
       "      <td>60</td>\n",
       "      <td>82.39</td>\n",
       "      <td>1.91</td>\n",
       "      <td>6.08</td>\n",
       "      <td>9.7</td>\n",
       "      <td>26.46</td>\n",
       "      <td>13.64</td>\n",
       "      <td>0.44</td>\n",
       "      <td>18.36</td>\n",
       "      <td>0.84</td>\n",
       "      <td>None</td>\n",
       "      <td>0.29</td>\n",
       "      <td>1.54</td>\n",
       "      <td>217.2</td>\n",
       "      <td>1.46</td>\n",
       "      <td>956</td>\n",
       "      <td>18.92</td>\n",
       "      <td>0.24</td>\n",
       "    </tr>\n",
       "    <tr>\n",
       "      <th>2</th>\n",
       "      <td>3</td>\n",
       "      <td>18-02-2019 02:00</td>\n",
       "      <td>55.5</td>\n",
       "      <td>73.42</td>\n",
       "      <td>2.22</td>\n",
       "      <td>6.71</td>\n",
       "      <td>10.86</td>\n",
       "      <td>27.06</td>\n",
       "      <td>13.64</td>\n",
       "      <td>0.44</td>\n",
       "      <td>34.54</td>\n",
       "      <td>0.77</td>\n",
       "      <td>None</td>\n",
       "      <td>0.23</td>\n",
       "      <td>0.66</td>\n",
       "      <td>197.21</td>\n",
       "      <td>None</td>\n",
       "      <td>1001.6</td>\n",
       "      <td>18.33</td>\n",
       "      <td>0</td>\n",
       "    </tr>\n",
       "    <tr>\n",
       "      <th>3</th>\n",
       "      <td>4</td>\n",
       "      <td>18-02-2019 03:00</td>\n",
       "      <td>66.56</td>\n",
       "      <td>96.04</td>\n",
       "      <td>2.79</td>\n",
       "      <td>7</td>\n",
       "      <td>12.1</td>\n",
       "      <td>26.34</td>\n",
       "      <td>13.72</td>\n",
       "      <td>0.45</td>\n",
       "      <td>31.85</td>\n",
       "      <td>0.82</td>\n",
       "      <td>None</td>\n",
       "      <td>0.21</td>\n",
       "      <td>0.61</td>\n",
       "      <td>206.44</td>\n",
       "      <td>None</td>\n",
       "      <td>1001.41</td>\n",
       "      <td>17.63</td>\n",
       "      <td>0</td>\n",
       "    </tr>\n",
       "    <tr>\n",
       "      <th>4</th>\n",
       "      <td>5</td>\n",
       "      <td>18-02-2019 04:00</td>\n",
       "      <td>67.08</td>\n",
       "      <td>97.21</td>\n",
       "      <td>3.29</td>\n",
       "      <td>9.45</td>\n",
       "      <td>15.53</td>\n",
       "      <td>25.16</td>\n",
       "      <td>13.8</td>\n",
       "      <td>0.47</td>\n",
       "      <td>24.07</td>\n",
       "      <td>0.74</td>\n",
       "      <td>None</td>\n",
       "      <td>0.22</td>\n",
       "      <td>0.54</td>\n",
       "      <td>230.53</td>\n",
       "      <td>None</td>\n",
       "      <td>980.67</td>\n",
       "      <td>16.61</td>\n",
       "      <td>0</td>\n",
       "    </tr>\n",
       "    <tr>\n",
       "      <th>...</th>\n",
       "      <td>...</td>\n",
       "      <td>...</td>\n",
       "      <td>...</td>\n",
       "      <td>...</td>\n",
       "      <td>...</td>\n",
       "      <td>...</td>\n",
       "      <td>...</td>\n",
       "      <td>...</td>\n",
       "      <td>...</td>\n",
       "      <td>...</td>\n",
       "      <td>...</td>\n",
       "      <td>...</td>\n",
       "      <td>...</td>\n",
       "      <td>...</td>\n",
       "      <td>...</td>\n",
       "      <td>...</td>\n",
       "      <td>...</td>\n",
       "      <td>...</td>\n",
       "      <td>...</td>\n",
       "      <td>...</td>\n",
       "    </tr>\n",
       "    <tr>\n",
       "      <th>33062</th>\n",
       "      <td>33063</td>\n",
       "      <td>30-12-2022 20:00</td>\n",
       "      <td>295.72</td>\n",
       "      <td>371.83</td>\n",
       "      <td>5.54</td>\n",
       "      <td>2.62</td>\n",
       "      <td>5.41</td>\n",
       "      <td>16.13</td>\n",
       "      <td>13.91</td>\n",
       "      <td>2.64</td>\n",
       "      <td>22.82</td>\n",
       "      <td>2.96</td>\n",
       "      <td>3.16</td>\n",
       "      <td>3.37</td>\n",
       "      <td>0.31</td>\n",
       "      <td>168.12</td>\n",
       "      <td>None</td>\n",
       "      <td>1009.22</td>\n",
       "      <td>15.96</td>\n",
       "      <td>0</td>\n",
       "    </tr>\n",
       "    <tr>\n",
       "      <th>33063</th>\n",
       "      <td>33064</td>\n",
       "      <td>30-12-2022 21:00</td>\n",
       "      <td>362.6</td>\n",
       "      <td>448.5</td>\n",
       "      <td>5.61</td>\n",
       "      <td>2.62</td>\n",
       "      <td>5.46</td>\n",
       "      <td>17.45</td>\n",
       "      <td>13.88</td>\n",
       "      <td>2.79</td>\n",
       "      <td>5.66</td>\n",
       "      <td>3.12</td>\n",
       "      <td>3.34</td>\n",
       "      <td>3.56</td>\n",
       "      <td>0.69</td>\n",
       "      <td>132.27</td>\n",
       "      <td>11.17</td>\n",
       "      <td>967.18</td>\n",
       "      <td>14.93</td>\n",
       "      <td>0.48</td>\n",
       "    </tr>\n",
       "    <tr>\n",
       "      <th>33064</th>\n",
       "      <td>33065</td>\n",
       "      <td>30-12-2022 22:00</td>\n",
       "      <td>277.86</td>\n",
       "      <td>353.78</td>\n",
       "      <td>5.52</td>\n",
       "      <td>2.46</td>\n",
       "      <td>5.29</td>\n",
       "      <td>17.92</td>\n",
       "      <td>13.74</td>\n",
       "      <td>3.25</td>\n",
       "      <td>22.64</td>\n",
       "      <td>3.64</td>\n",
       "      <td>3.89</td>\n",
       "      <td>4.15</td>\n",
       "      <td>0.36</td>\n",
       "      <td>173.64</td>\n",
       "      <td>None</td>\n",
       "      <td>1009.11</td>\n",
       "      <td>15.22</td>\n",
       "      <td>0</td>\n",
       "    </tr>\n",
       "    <tr>\n",
       "      <th>33065</th>\n",
       "      <td>33066</td>\n",
       "      <td>30-12-2022 23:00</td>\n",
       "      <td>380</td>\n",
       "      <td>450.48</td>\n",
       "      <td>5.46</td>\n",
       "      <td>2.47</td>\n",
       "      <td>5.32</td>\n",
       "      <td>18.01</td>\n",
       "      <td>14.12</td>\n",
       "      <td>3.28</td>\n",
       "      <td>7.07</td>\n",
       "      <td>3.68</td>\n",
       "      <td>3.94</td>\n",
       "      <td>4.21</td>\n",
       "      <td>0.82</td>\n",
       "      <td>163.19</td>\n",
       "      <td>9.57</td>\n",
       "      <td>912.74</td>\n",
       "      <td>13.45</td>\n",
       "      <td>1.09</td>\n",
       "    </tr>\n",
       "    <tr>\n",
       "      <th>33066</th>\n",
       "      <td>33067</td>\n",
       "      <td>31-12-2022 00:00</td>\n",
       "      <td>295</td>\n",
       "      <td>389</td>\n",
       "      <td>None</td>\n",
       "      <td>None</td>\n",
       "      <td>None</td>\n",
       "      <td>None</td>\n",
       "      <td>None</td>\n",
       "      <td>None</td>\n",
       "      <td>None</td>\n",
       "      <td>None</td>\n",
       "      <td>4</td>\n",
       "      <td>4.27</td>\n",
       "      <td>0.43</td>\n",
       "      <td>109.33</td>\n",
       "      <td>None</td>\n",
       "      <td>None</td>\n",
       "      <td>14.6</td>\n",
       "      <td>0</td>\n",
       "    </tr>\n",
       "  </tbody>\n",
       "</table>\n",
       "<p>33067 rows × 20 columns</p>\n",
       "</div>"
      ],
      "text/plain": [
       "       SL NO         From Date   PM2.5    PM10    NO   NO2    Nox    NH3  \\\n",
       "0          1  18-02-2019 00:00   58.04   81.06  1.81   6.4   9.66  27.18   \n",
       "1          2  18-02-2019 01:00      60   82.39  1.91  6.08    9.7  26.46   \n",
       "2          3  18-02-2019 02:00    55.5   73.42  2.22  6.71  10.86  27.06   \n",
       "3          4  18-02-2019 03:00   66.56   96.04  2.79     7   12.1  26.34   \n",
       "4          5  18-02-2019 04:00   67.08   97.21  3.29  9.45  15.53  25.16   \n",
       "...      ...               ...     ...     ...   ...   ...    ...    ...   \n",
       "33062  33063  30-12-2022 20:00  295.72  371.83  5.54  2.62   5.41  16.13   \n",
       "33063  33064  30-12-2022 21:00   362.6   448.5  5.61  2.62   5.46  17.45   \n",
       "33064  33065  30-12-2022 22:00  277.86  353.78  5.52  2.46   5.29  17.92   \n",
       "33065  33066  30-12-2022 23:00     380  450.48  5.46  2.47   5.32  18.01   \n",
       "33066  33067  31-12-2022 00:00     295     389  None  None   None   None   \n",
       "\n",
       "         SO2    CO  Ozone Benzene Eth-Benzene MP-Xylene    WS      WD     SR  \\\n",
       "0      13.77  0.49  15.73    0.92        None      0.33  1.86  229.44   0.22   \n",
       "1      13.64  0.44  18.36    0.84        None      0.29  1.54   217.2   1.46   \n",
       "2      13.64  0.44  34.54    0.77        None      0.23  0.66  197.21   None   \n",
       "3      13.72  0.45  31.85    0.82        None      0.21  0.61  206.44   None   \n",
       "4       13.8  0.47  24.07    0.74        None      0.22  0.54  230.53   None   \n",
       "...      ...   ...    ...     ...         ...       ...   ...     ...    ...   \n",
       "33062  13.91  2.64  22.82    2.96        3.16      3.37  0.31  168.12   None   \n",
       "33063  13.88  2.79   5.66    3.12        3.34      3.56  0.69  132.27  11.17   \n",
       "33064  13.74  3.25  22.64    3.64        3.89      4.15  0.36  173.64   None   \n",
       "33065  14.12  3.28   7.07    3.68        3.94      4.21  0.82  163.19   9.57   \n",
       "33066   None  None   None    None           4      4.27  0.43  109.33   None   \n",
       "\n",
       "            BP     AT    RF  \n",
       "0      1002.19  20.87     0  \n",
       "1          956  18.92  0.24  \n",
       "2       1001.6  18.33     0  \n",
       "3      1001.41  17.63     0  \n",
       "4       980.67  16.61     0  \n",
       "...        ...    ...   ...  \n",
       "33062  1009.22  15.96     0  \n",
       "33063   967.18  14.93  0.48  \n",
       "33064  1009.11  15.22     0  \n",
       "33065   912.74  13.45  1.09  \n",
       "33066     None   14.6     0  \n",
       "\n",
       "[33067 rows x 20 columns]"
      ]
     },
     "execution_count": 109,
     "metadata": {},
     "output_type": "execute_result"
    }
   ],
   "source": [
    "data = pd.read_csv(r\"C:\\Users\\SURUJ_KALITA\\lr-in\\gan-in-tabular-data\\7th-sem\\Data.csv\")\n",
    "data"
   ]
  },
  {
   "cell_type": "code",
   "execution_count": 15,
   "metadata": {},
   "outputs": [
    {
     "data": {
      "text/html": [
       "<div>\n",
       "<style scoped>\n",
       "    .dataframe tbody tr th:only-of-type {\n",
       "        vertical-align: middle;\n",
       "    }\n",
       "\n",
       "    .dataframe tbody tr th {\n",
       "        vertical-align: top;\n",
       "    }\n",
       "\n",
       "    .dataframe thead th {\n",
       "        text-align: right;\n",
       "    }\n",
       "</style>\n",
       "<table border=\"1\" class=\"dataframe\">\n",
       "  <thead>\n",
       "    <tr style=\"text-align: right;\">\n",
       "      <th></th>\n",
       "      <th>SL NO</th>\n",
       "      <th>PM2.5</th>\n",
       "      <th>PM10</th>\n",
       "      <th>NO</th>\n",
       "      <th>NO2</th>\n",
       "      <th>Nox</th>\n",
       "      <th>NH3</th>\n",
       "      <th>SO2</th>\n",
       "      <th>CO</th>\n",
       "      <th>Ozone</th>\n",
       "      <th>Benzene</th>\n",
       "      <th>Eth-Benzene</th>\n",
       "      <th>MP-Xylene</th>\n",
       "      <th>WS</th>\n",
       "      <th>WD</th>\n",
       "      <th>SR</th>\n",
       "      <th>BP</th>\n",
       "      <th>AT</th>\n",
       "      <th>RF</th>\n",
       "    </tr>\n",
       "    <tr>\n",
       "      <th>From Date</th>\n",
       "      <th></th>\n",
       "      <th></th>\n",
       "      <th></th>\n",
       "      <th></th>\n",
       "      <th></th>\n",
       "      <th></th>\n",
       "      <th></th>\n",
       "      <th></th>\n",
       "      <th></th>\n",
       "      <th></th>\n",
       "      <th></th>\n",
       "      <th></th>\n",
       "      <th></th>\n",
       "      <th></th>\n",
       "      <th></th>\n",
       "      <th></th>\n",
       "      <th></th>\n",
       "      <th></th>\n",
       "      <th></th>\n",
       "    </tr>\n",
       "  </thead>\n",
       "  <tbody>\n",
       "    <tr>\n",
       "      <th>2019-02-18 00:00:00</th>\n",
       "      <td>1</td>\n",
       "      <td>58.04</td>\n",
       "      <td>81.06</td>\n",
       "      <td>1.81</td>\n",
       "      <td>6.4</td>\n",
       "      <td>9.66</td>\n",
       "      <td>27.18</td>\n",
       "      <td>13.77</td>\n",
       "      <td>0.49</td>\n",
       "      <td>15.73</td>\n",
       "      <td>0.92</td>\n",
       "      <td>None</td>\n",
       "      <td>0.33</td>\n",
       "      <td>1.86</td>\n",
       "      <td>229.44</td>\n",
       "      <td>0.22</td>\n",
       "      <td>1002.19</td>\n",
       "      <td>20.87</td>\n",
       "      <td>0</td>\n",
       "    </tr>\n",
       "    <tr>\n",
       "      <th>2019-02-18 01:00:00</th>\n",
       "      <td>2</td>\n",
       "      <td>60</td>\n",
       "      <td>82.39</td>\n",
       "      <td>1.91</td>\n",
       "      <td>6.08</td>\n",
       "      <td>9.7</td>\n",
       "      <td>26.46</td>\n",
       "      <td>13.64</td>\n",
       "      <td>0.44</td>\n",
       "      <td>18.36</td>\n",
       "      <td>0.84</td>\n",
       "      <td>None</td>\n",
       "      <td>0.29</td>\n",
       "      <td>1.54</td>\n",
       "      <td>217.2</td>\n",
       "      <td>1.46</td>\n",
       "      <td>956</td>\n",
       "      <td>18.92</td>\n",
       "      <td>0.24</td>\n",
       "    </tr>\n",
       "    <tr>\n",
       "      <th>2019-02-18 02:00:00</th>\n",
       "      <td>3</td>\n",
       "      <td>55.5</td>\n",
       "      <td>73.42</td>\n",
       "      <td>2.22</td>\n",
       "      <td>6.71</td>\n",
       "      <td>10.86</td>\n",
       "      <td>27.06</td>\n",
       "      <td>13.64</td>\n",
       "      <td>0.44</td>\n",
       "      <td>34.54</td>\n",
       "      <td>0.77</td>\n",
       "      <td>None</td>\n",
       "      <td>0.23</td>\n",
       "      <td>0.66</td>\n",
       "      <td>197.21</td>\n",
       "      <td>None</td>\n",
       "      <td>1001.6</td>\n",
       "      <td>18.33</td>\n",
       "      <td>0</td>\n",
       "    </tr>\n",
       "    <tr>\n",
       "      <th>2019-02-18 03:00:00</th>\n",
       "      <td>4</td>\n",
       "      <td>66.56</td>\n",
       "      <td>96.04</td>\n",
       "      <td>2.79</td>\n",
       "      <td>7</td>\n",
       "      <td>12.1</td>\n",
       "      <td>26.34</td>\n",
       "      <td>13.72</td>\n",
       "      <td>0.45</td>\n",
       "      <td>31.85</td>\n",
       "      <td>0.82</td>\n",
       "      <td>None</td>\n",
       "      <td>0.21</td>\n",
       "      <td>0.61</td>\n",
       "      <td>206.44</td>\n",
       "      <td>None</td>\n",
       "      <td>1001.41</td>\n",
       "      <td>17.63</td>\n",
       "      <td>0</td>\n",
       "    </tr>\n",
       "    <tr>\n",
       "      <th>2019-02-18 04:00:00</th>\n",
       "      <td>5</td>\n",
       "      <td>67.08</td>\n",
       "      <td>97.21</td>\n",
       "      <td>3.29</td>\n",
       "      <td>9.45</td>\n",
       "      <td>15.53</td>\n",
       "      <td>25.16</td>\n",
       "      <td>13.8</td>\n",
       "      <td>0.47</td>\n",
       "      <td>24.07</td>\n",
       "      <td>0.74</td>\n",
       "      <td>None</td>\n",
       "      <td>0.22</td>\n",
       "      <td>0.54</td>\n",
       "      <td>230.53</td>\n",
       "      <td>None</td>\n",
       "      <td>980.67</td>\n",
       "      <td>16.61</td>\n",
       "      <td>0</td>\n",
       "    </tr>\n",
       "    <tr>\n",
       "      <th>...</th>\n",
       "      <td>...</td>\n",
       "      <td>...</td>\n",
       "      <td>...</td>\n",
       "      <td>...</td>\n",
       "      <td>...</td>\n",
       "      <td>...</td>\n",
       "      <td>...</td>\n",
       "      <td>...</td>\n",
       "      <td>...</td>\n",
       "      <td>...</td>\n",
       "      <td>...</td>\n",
       "      <td>...</td>\n",
       "      <td>...</td>\n",
       "      <td>...</td>\n",
       "      <td>...</td>\n",
       "      <td>...</td>\n",
       "      <td>...</td>\n",
       "      <td>...</td>\n",
       "      <td>...</td>\n",
       "    </tr>\n",
       "    <tr>\n",
       "      <th>2022-12-30 20:00:00</th>\n",
       "      <td>33063</td>\n",
       "      <td>295.72</td>\n",
       "      <td>371.83</td>\n",
       "      <td>5.54</td>\n",
       "      <td>2.62</td>\n",
       "      <td>5.41</td>\n",
       "      <td>16.13</td>\n",
       "      <td>13.91</td>\n",
       "      <td>2.64</td>\n",
       "      <td>22.82</td>\n",
       "      <td>2.96</td>\n",
       "      <td>3.16</td>\n",
       "      <td>3.37</td>\n",
       "      <td>0.31</td>\n",
       "      <td>168.12</td>\n",
       "      <td>None</td>\n",
       "      <td>1009.22</td>\n",
       "      <td>15.96</td>\n",
       "      <td>0</td>\n",
       "    </tr>\n",
       "    <tr>\n",
       "      <th>2022-12-30 21:00:00</th>\n",
       "      <td>33064</td>\n",
       "      <td>362.6</td>\n",
       "      <td>448.5</td>\n",
       "      <td>5.61</td>\n",
       "      <td>2.62</td>\n",
       "      <td>5.46</td>\n",
       "      <td>17.45</td>\n",
       "      <td>13.88</td>\n",
       "      <td>2.79</td>\n",
       "      <td>5.66</td>\n",
       "      <td>3.12</td>\n",
       "      <td>3.34</td>\n",
       "      <td>3.56</td>\n",
       "      <td>0.69</td>\n",
       "      <td>132.27</td>\n",
       "      <td>11.17</td>\n",
       "      <td>967.18</td>\n",
       "      <td>14.93</td>\n",
       "      <td>0.48</td>\n",
       "    </tr>\n",
       "    <tr>\n",
       "      <th>2022-12-30 22:00:00</th>\n",
       "      <td>33065</td>\n",
       "      <td>277.86</td>\n",
       "      <td>353.78</td>\n",
       "      <td>5.52</td>\n",
       "      <td>2.46</td>\n",
       "      <td>5.29</td>\n",
       "      <td>17.92</td>\n",
       "      <td>13.74</td>\n",
       "      <td>3.25</td>\n",
       "      <td>22.64</td>\n",
       "      <td>3.64</td>\n",
       "      <td>3.89</td>\n",
       "      <td>4.15</td>\n",
       "      <td>0.36</td>\n",
       "      <td>173.64</td>\n",
       "      <td>None</td>\n",
       "      <td>1009.11</td>\n",
       "      <td>15.22</td>\n",
       "      <td>0</td>\n",
       "    </tr>\n",
       "    <tr>\n",
       "      <th>2022-12-30 23:00:00</th>\n",
       "      <td>33066</td>\n",
       "      <td>380</td>\n",
       "      <td>450.48</td>\n",
       "      <td>5.46</td>\n",
       "      <td>2.47</td>\n",
       "      <td>5.32</td>\n",
       "      <td>18.01</td>\n",
       "      <td>14.12</td>\n",
       "      <td>3.28</td>\n",
       "      <td>7.07</td>\n",
       "      <td>3.68</td>\n",
       "      <td>3.94</td>\n",
       "      <td>4.21</td>\n",
       "      <td>0.82</td>\n",
       "      <td>163.19</td>\n",
       "      <td>9.57</td>\n",
       "      <td>912.74</td>\n",
       "      <td>13.45</td>\n",
       "      <td>1.09</td>\n",
       "    </tr>\n",
       "    <tr>\n",
       "      <th>2022-12-31 00:00:00</th>\n",
       "      <td>33067</td>\n",
       "      <td>295</td>\n",
       "      <td>389</td>\n",
       "      <td>None</td>\n",
       "      <td>None</td>\n",
       "      <td>None</td>\n",
       "      <td>None</td>\n",
       "      <td>None</td>\n",
       "      <td>None</td>\n",
       "      <td>None</td>\n",
       "      <td>None</td>\n",
       "      <td>4</td>\n",
       "      <td>4.27</td>\n",
       "      <td>0.43</td>\n",
       "      <td>109.33</td>\n",
       "      <td>None</td>\n",
       "      <td>None</td>\n",
       "      <td>14.6</td>\n",
       "      <td>0</td>\n",
       "    </tr>\n",
       "  </tbody>\n",
       "</table>\n",
       "<p>33067 rows × 19 columns</p>\n",
       "</div>"
      ],
      "text/plain": [
       "                     SL NO   PM2.5    PM10    NO   NO2    Nox    NH3    SO2  \\\n",
       "From Date                                                                     \n",
       "2019-02-18 00:00:00      1   58.04   81.06  1.81   6.4   9.66  27.18  13.77   \n",
       "2019-02-18 01:00:00      2      60   82.39  1.91  6.08    9.7  26.46  13.64   \n",
       "2019-02-18 02:00:00      3    55.5   73.42  2.22  6.71  10.86  27.06  13.64   \n",
       "2019-02-18 03:00:00      4   66.56   96.04  2.79     7   12.1  26.34  13.72   \n",
       "2019-02-18 04:00:00      5   67.08   97.21  3.29  9.45  15.53  25.16   13.8   \n",
       "...                    ...     ...     ...   ...   ...    ...    ...    ...   \n",
       "2022-12-30 20:00:00  33063  295.72  371.83  5.54  2.62   5.41  16.13  13.91   \n",
       "2022-12-30 21:00:00  33064   362.6   448.5  5.61  2.62   5.46  17.45  13.88   \n",
       "2022-12-30 22:00:00  33065  277.86  353.78  5.52  2.46   5.29  17.92  13.74   \n",
       "2022-12-30 23:00:00  33066     380  450.48  5.46  2.47   5.32  18.01  14.12   \n",
       "2022-12-31 00:00:00  33067     295     389  None  None   None   None   None   \n",
       "\n",
       "                       CO  Ozone Benzene Eth-Benzene MP-Xylene    WS      WD  \\\n",
       "From Date                                                                      \n",
       "2019-02-18 00:00:00  0.49  15.73    0.92        None      0.33  1.86  229.44   \n",
       "2019-02-18 01:00:00  0.44  18.36    0.84        None      0.29  1.54   217.2   \n",
       "2019-02-18 02:00:00  0.44  34.54    0.77        None      0.23  0.66  197.21   \n",
       "2019-02-18 03:00:00  0.45  31.85    0.82        None      0.21  0.61  206.44   \n",
       "2019-02-18 04:00:00  0.47  24.07    0.74        None      0.22  0.54  230.53   \n",
       "...                   ...    ...     ...         ...       ...   ...     ...   \n",
       "2022-12-30 20:00:00  2.64  22.82    2.96        3.16      3.37  0.31  168.12   \n",
       "2022-12-30 21:00:00  2.79   5.66    3.12        3.34      3.56  0.69  132.27   \n",
       "2022-12-30 22:00:00  3.25  22.64    3.64        3.89      4.15  0.36  173.64   \n",
       "2022-12-30 23:00:00  3.28   7.07    3.68        3.94      4.21  0.82  163.19   \n",
       "2022-12-31 00:00:00  None   None    None           4      4.27  0.43  109.33   \n",
       "\n",
       "                        SR       BP     AT    RF  \n",
       "From Date                                         \n",
       "2019-02-18 00:00:00   0.22  1002.19  20.87     0  \n",
       "2019-02-18 01:00:00   1.46      956  18.92  0.24  \n",
       "2019-02-18 02:00:00   None   1001.6  18.33     0  \n",
       "2019-02-18 03:00:00   None  1001.41  17.63     0  \n",
       "2019-02-18 04:00:00   None   980.67  16.61     0  \n",
       "...                    ...      ...    ...   ...  \n",
       "2022-12-30 20:00:00   None  1009.22  15.96     0  \n",
       "2022-12-30 21:00:00  11.17   967.18  14.93  0.48  \n",
       "2022-12-30 22:00:00   None  1009.11  15.22     0  \n",
       "2022-12-30 23:00:00   9.57   912.74  13.45  1.09  \n",
       "2022-12-31 00:00:00   None     None   14.6     0  \n",
       "\n",
       "[33067 rows x 19 columns]"
      ]
     },
     "execution_count": 15,
     "metadata": {},
     "output_type": "execute_result"
    }
   ],
   "source": [
    "df = pd.read_csv(r\"C:\\Users\\SURUJ_KALITA\\lr-in\\gan-in-tabular-data\\7th-sem\\Data.csv\" , index_col='From Date',parse_dates=True)\n",
    "df"
   ]
  },
  {
   "cell_type": "code",
   "execution_count": 16,
   "metadata": {},
   "outputs": [
    {
     "name": "stdout",
     "output_type": "stream",
     "text": [
      "<class 'pandas.core.frame.DataFrame'>\n",
      "DatetimeIndex: 33067 entries, 2019-02-18 00:00:00 to 2022-12-31 00:00:00\n",
      "Data columns (total 19 columns):\n",
      " #   Column       Non-Null Count  Dtype \n",
      "---  ------       --------------  ----- \n",
      " 0   SL NO        33067 non-null  int64 \n",
      " 1   PM2.5        33067 non-null  object\n",
      " 2   PM10         33067 non-null  object\n",
      " 3   NO           33067 non-null  object\n",
      " 4   NO2          33067 non-null  object\n",
      " 5   Nox          33067 non-null  object\n",
      " 6   NH3          33067 non-null  object\n",
      " 7   SO2          33067 non-null  object\n",
      " 8   CO           33067 non-null  object\n",
      " 9   Ozone        33067 non-null  object\n",
      " 10  Benzene      33067 non-null  object\n",
      " 11  Eth-Benzene  33067 non-null  object\n",
      " 12  MP-Xylene    33067 non-null  object\n",
      " 13  WS           33067 non-null  object\n",
      " 14  WD           33067 non-null  object\n",
      " 15  SR           33067 non-null  object\n",
      " 16  BP           33067 non-null  object\n",
      " 17  AT           33067 non-null  object\n",
      " 18  RF           33067 non-null  object\n",
      "dtypes: int64(1), object(18)\n",
      "memory usage: 5.0+ MB\n"
     ]
    }
   ],
   "source": [
    "df.info()"
   ]
  },
  {
   "cell_type": "code",
   "execution_count": 17,
   "metadata": {},
   "outputs": [
    {
     "data": {
      "text/html": [
       "<div>\n",
       "<style scoped>\n",
       "    .dataframe tbody tr th:only-of-type {\n",
       "        vertical-align: middle;\n",
       "    }\n",
       "\n",
       "    .dataframe tbody tr th {\n",
       "        vertical-align: top;\n",
       "    }\n",
       "\n",
       "    .dataframe thead th {\n",
       "        text-align: right;\n",
       "    }\n",
       "</style>\n",
       "<table border=\"1\" class=\"dataframe\">\n",
       "  <thead>\n",
       "    <tr style=\"text-align: right;\">\n",
       "      <th></th>\n",
       "      <th>SL NO</th>\n",
       "    </tr>\n",
       "  </thead>\n",
       "  <tbody>\n",
       "    <tr>\n",
       "      <th>count</th>\n",
       "      <td>33067.000000</td>\n",
       "    </tr>\n",
       "    <tr>\n",
       "      <th>mean</th>\n",
       "      <td>16534.000000</td>\n",
       "    </tr>\n",
       "    <tr>\n",
       "      <th>std</th>\n",
       "      <td>9545.765012</td>\n",
       "    </tr>\n",
       "    <tr>\n",
       "      <th>min</th>\n",
       "      <td>1.000000</td>\n",
       "    </tr>\n",
       "    <tr>\n",
       "      <th>25%</th>\n",
       "      <td>8267.500000</td>\n",
       "    </tr>\n",
       "    <tr>\n",
       "      <th>50%</th>\n",
       "      <td>16534.000000</td>\n",
       "    </tr>\n",
       "    <tr>\n",
       "      <th>75%</th>\n",
       "      <td>24800.500000</td>\n",
       "    </tr>\n",
       "    <tr>\n",
       "      <th>max</th>\n",
       "      <td>33067.000000</td>\n",
       "    </tr>\n",
       "  </tbody>\n",
       "</table>\n",
       "</div>"
      ],
      "text/plain": [
       "              SL NO\n",
       "count  33067.000000\n",
       "mean   16534.000000\n",
       "std     9545.765012\n",
       "min        1.000000\n",
       "25%     8267.500000\n",
       "50%    16534.000000\n",
       "75%    24800.500000\n",
       "max    33067.000000"
      ]
     },
     "execution_count": 17,
     "metadata": {},
     "output_type": "execute_result"
    }
   ],
   "source": [
    "df.describe()"
   ]
  },
  {
   "cell_type": "code",
   "execution_count": 23,
   "metadata": {},
   "outputs": [],
   "source": [
    "# df.drop('SL NO',inplace=True,axis=1)\n",
    "# # df.drop('Nox',inplace=True, axix = 1)  ##once excuted cant run again"
   ]
  },
  {
   "cell_type": "code",
   "execution_count": 24,
   "metadata": {},
   "outputs": [
    {
     "data": {
      "text/html": [
       "<div>\n",
       "<style scoped>\n",
       "    .dataframe tbody tr th:only-of-type {\n",
       "        vertical-align: middle;\n",
       "    }\n",
       "\n",
       "    .dataframe tbody tr th {\n",
       "        vertical-align: top;\n",
       "    }\n",
       "\n",
       "    .dataframe thead th {\n",
       "        text-align: right;\n",
       "    }\n",
       "</style>\n",
       "<table border=\"1\" class=\"dataframe\">\n",
       "  <thead>\n",
       "    <tr style=\"text-align: right;\">\n",
       "      <th></th>\n",
       "      <th>PM2.5</th>\n",
       "      <th>PM10</th>\n",
       "      <th>NO</th>\n",
       "      <th>NO2</th>\n",
       "      <th>Nox</th>\n",
       "      <th>NH3</th>\n",
       "      <th>SO2</th>\n",
       "      <th>CO</th>\n",
       "      <th>Ozone</th>\n",
       "      <th>Benzene</th>\n",
       "      <th>Eth-Benzene</th>\n",
       "      <th>MP-Xylene</th>\n",
       "      <th>WS</th>\n",
       "      <th>WD</th>\n",
       "      <th>SR</th>\n",
       "      <th>BP</th>\n",
       "      <th>AT</th>\n",
       "      <th>RF</th>\n",
       "    </tr>\n",
       "    <tr>\n",
       "      <th>From Date</th>\n",
       "      <th></th>\n",
       "      <th></th>\n",
       "      <th></th>\n",
       "      <th></th>\n",
       "      <th></th>\n",
       "      <th></th>\n",
       "      <th></th>\n",
       "      <th></th>\n",
       "      <th></th>\n",
       "      <th></th>\n",
       "      <th></th>\n",
       "      <th></th>\n",
       "      <th></th>\n",
       "      <th></th>\n",
       "      <th></th>\n",
       "      <th></th>\n",
       "      <th></th>\n",
       "      <th></th>\n",
       "    </tr>\n",
       "  </thead>\n",
       "  <tbody>\n",
       "    <tr>\n",
       "      <th>2019-02-18 00:00:00</th>\n",
       "      <td>58.04</td>\n",
       "      <td>81.06</td>\n",
       "      <td>1.81</td>\n",
       "      <td>6.4</td>\n",
       "      <td>9.66</td>\n",
       "      <td>27.18</td>\n",
       "      <td>13.77</td>\n",
       "      <td>0.49</td>\n",
       "      <td>15.73</td>\n",
       "      <td>0.92</td>\n",
       "      <td>None</td>\n",
       "      <td>0.33</td>\n",
       "      <td>1.86</td>\n",
       "      <td>229.44</td>\n",
       "      <td>0.22</td>\n",
       "      <td>1002.19</td>\n",
       "      <td>20.87</td>\n",
       "      <td>0</td>\n",
       "    </tr>\n",
       "    <tr>\n",
       "      <th>2019-02-18 01:00:00</th>\n",
       "      <td>60</td>\n",
       "      <td>82.39</td>\n",
       "      <td>1.91</td>\n",
       "      <td>6.08</td>\n",
       "      <td>9.7</td>\n",
       "      <td>26.46</td>\n",
       "      <td>13.64</td>\n",
       "      <td>0.44</td>\n",
       "      <td>18.36</td>\n",
       "      <td>0.84</td>\n",
       "      <td>None</td>\n",
       "      <td>0.29</td>\n",
       "      <td>1.54</td>\n",
       "      <td>217.2</td>\n",
       "      <td>1.46</td>\n",
       "      <td>956</td>\n",
       "      <td>18.92</td>\n",
       "      <td>0.24</td>\n",
       "    </tr>\n",
       "    <tr>\n",
       "      <th>2019-02-18 02:00:00</th>\n",
       "      <td>55.5</td>\n",
       "      <td>73.42</td>\n",
       "      <td>2.22</td>\n",
       "      <td>6.71</td>\n",
       "      <td>10.86</td>\n",
       "      <td>27.06</td>\n",
       "      <td>13.64</td>\n",
       "      <td>0.44</td>\n",
       "      <td>34.54</td>\n",
       "      <td>0.77</td>\n",
       "      <td>None</td>\n",
       "      <td>0.23</td>\n",
       "      <td>0.66</td>\n",
       "      <td>197.21</td>\n",
       "      <td>None</td>\n",
       "      <td>1001.6</td>\n",
       "      <td>18.33</td>\n",
       "      <td>0</td>\n",
       "    </tr>\n",
       "    <tr>\n",
       "      <th>2019-02-18 03:00:00</th>\n",
       "      <td>66.56</td>\n",
       "      <td>96.04</td>\n",
       "      <td>2.79</td>\n",
       "      <td>7</td>\n",
       "      <td>12.1</td>\n",
       "      <td>26.34</td>\n",
       "      <td>13.72</td>\n",
       "      <td>0.45</td>\n",
       "      <td>31.85</td>\n",
       "      <td>0.82</td>\n",
       "      <td>None</td>\n",
       "      <td>0.21</td>\n",
       "      <td>0.61</td>\n",
       "      <td>206.44</td>\n",
       "      <td>None</td>\n",
       "      <td>1001.41</td>\n",
       "      <td>17.63</td>\n",
       "      <td>0</td>\n",
       "    </tr>\n",
       "    <tr>\n",
       "      <th>2019-02-18 04:00:00</th>\n",
       "      <td>67.08</td>\n",
       "      <td>97.21</td>\n",
       "      <td>3.29</td>\n",
       "      <td>9.45</td>\n",
       "      <td>15.53</td>\n",
       "      <td>25.16</td>\n",
       "      <td>13.8</td>\n",
       "      <td>0.47</td>\n",
       "      <td>24.07</td>\n",
       "      <td>0.74</td>\n",
       "      <td>None</td>\n",
       "      <td>0.22</td>\n",
       "      <td>0.54</td>\n",
       "      <td>230.53</td>\n",
       "      <td>None</td>\n",
       "      <td>980.67</td>\n",
       "      <td>16.61</td>\n",
       "      <td>0</td>\n",
       "    </tr>\n",
       "  </tbody>\n",
       "</table>\n",
       "</div>"
      ],
      "text/plain": [
       "                     PM2.5   PM10    NO   NO2    Nox    NH3    SO2    CO  \\\n",
       "From Date                                                                  \n",
       "2019-02-18 00:00:00  58.04  81.06  1.81   6.4   9.66  27.18  13.77  0.49   \n",
       "2019-02-18 01:00:00     60  82.39  1.91  6.08    9.7  26.46  13.64  0.44   \n",
       "2019-02-18 02:00:00   55.5  73.42  2.22  6.71  10.86  27.06  13.64  0.44   \n",
       "2019-02-18 03:00:00  66.56  96.04  2.79     7   12.1  26.34  13.72  0.45   \n",
       "2019-02-18 04:00:00  67.08  97.21  3.29  9.45  15.53  25.16   13.8  0.47   \n",
       "\n",
       "                     Ozone Benzene Eth-Benzene MP-Xylene    WS      WD    SR  \\\n",
       "From Date                                                                      \n",
       "2019-02-18 00:00:00  15.73    0.92        None      0.33  1.86  229.44  0.22   \n",
       "2019-02-18 01:00:00  18.36    0.84        None      0.29  1.54   217.2  1.46   \n",
       "2019-02-18 02:00:00  34.54    0.77        None      0.23  0.66  197.21  None   \n",
       "2019-02-18 03:00:00  31.85    0.82        None      0.21  0.61  206.44  None   \n",
       "2019-02-18 04:00:00  24.07    0.74        None      0.22  0.54  230.53  None   \n",
       "\n",
       "                          BP     AT    RF  \n",
       "From Date                                  \n",
       "2019-02-18 00:00:00  1002.19  20.87     0  \n",
       "2019-02-18 01:00:00      956  18.92  0.24  \n",
       "2019-02-18 02:00:00   1001.6  18.33     0  \n",
       "2019-02-18 03:00:00  1001.41  17.63     0  \n",
       "2019-02-18 04:00:00   980.67  16.61     0  "
      ]
     },
     "execution_count": 24,
     "metadata": {},
     "output_type": "execute_result"
    }
   ],
   "source": [
    "df.head()"
   ]
  },
  {
   "cell_type": "code",
   "execution_count": 27,
   "metadata": {},
   "outputs": [
    {
     "data": {
      "text/plain": [
       "array(['58.04', '60', '55.5', ..., '362.6', '277.86', '380'], dtype=object)"
      ]
     },
     "execution_count": 27,
     "metadata": {},
     "output_type": "execute_result"
    }
   ],
   "source": [
    "df['PM2.5'].unique()\n"
   ]
  },
  {
   "cell_type": "code",
   "execution_count": 28,
   "metadata": {},
   "outputs": [
    {
     "data": {
      "text/plain": [
       "array(['6.4', '6.08', '6.71', ..., '0.77', '0.71', '2.53'], dtype=object)"
      ]
     },
     "execution_count": 28,
     "metadata": {},
     "output_type": "execute_result"
    }
   ],
   "source": [
    "df['NO2'].unique()"
   ]
  },
  {
   "cell_type": "code",
   "execution_count": 29,
   "metadata": {},
   "outputs": [
    {
     "data": {
      "text/plain": [
       "array(['13.77', '13.64', '13.72', ..., '35.21', '8.61', '5.88'],\n",
       "      dtype=object)"
      ]
     },
     "execution_count": 29,
     "metadata": {},
     "output_type": "execute_result"
    }
   ],
   "source": [
    "df['SO2'].unique()"
   ]
  },
  {
   "cell_type": "code",
   "execution_count": 31,
   "metadata": {},
   "outputs": [
    {
     "data": {
      "text/plain": [
       "array(['0.22', '1.46', 'None', ..., '421.59', '279.79', '113.21'],\n",
       "      dtype=object)"
      ]
     },
     "execution_count": 31,
     "metadata": {},
     "output_type": "execute_result"
    }
   ],
   "source": [
    "df['SR'].unique()"
   ]
  },
  {
   "cell_type": "code",
   "execution_count": 35,
   "metadata": {},
   "outputs": [
    {
     "data": {
      "text/plain": [
       "array([ 81.06,  82.39,  73.42, ..., 448.5 , 353.78, 450.48])"
      ]
     },
     "execution_count": 35,
     "metadata": {},
     "output_type": "execute_result"
    }
   ],
   "source": [
    "df['PM10'].unique()"
   ]
  },
  {
   "cell_type": "code",
   "execution_count": 38,
   "metadata": {},
   "outputs": [
    {
     "data": {
      "text/plain": [
       "array(['20.87', '18.92', '18.33', ..., '34.36', '28.81', '6.17'],\n",
       "      dtype=object)"
      ]
     },
     "execution_count": 38,
     "metadata": {},
     "output_type": "execute_result"
    }
   ],
   "source": [
    "df['AT'].unique()"
   ]
  },
  {
   "cell_type": "code",
   "execution_count": 39,
   "metadata": {},
   "outputs": [
    {
     "data": {
      "text/plain": [
       "array(['0', '0.24', '0.48', '0.21', '0.41', '2', '0.45', '0.26', '0.22',\n",
       "       '0.04', '0.27', '0.43', '0.53', nan, '0.23', '0.29', '0.67',\n",
       "       '0.25', '0.7', '0.84', '0.51', '1.44', '0.96', '0.47', '0.01',\n",
       "       '0.69', '0.46', '0.65', '1.93', '0.36', '2.21', '0.5', '1.36',\n",
       "       '1.1', '0.32', '0.55', '0.94', '1.7', '0.56', '2.1', '1.16',\n",
       "       '0.58', '0.87', '1.66', '0.15', '0.2', '0.42', '1.58', '0.85',\n",
       "       '1.71', '1.14', '0.54', '1.52', '1.67', '0.86', '1.33', '1.77',\n",
       "       '0.17', '1.29', '0.02', '0.03', '0.92', '0.33', '0.1', '0.08',\n",
       "       '0.72', '0.83', '3.19', '0.64', '1.65', '1.69', '0.19', '2.88',\n",
       "       '1.88', '1.02', '1.8', '0.38', '0.39', '1.06', '2.71', '0.31',\n",
       "       '2.62', '1.72', '1.51', '0.52', '1.85', '0.78', '1', '2.56',\n",
       "       '1.54', '0.74', '1.79', '1.12', '2.17', '0.66', '0.44', '0.79',\n",
       "       '0.61', '0.06', '0.77', '1.25', '0.81', '1.99', '1.6', '0.57',\n",
       "       '1.39', '1.11', '0.73', '1.03', '0.49', '0.98', '2.41', '0.68',\n",
       "       '2.23', '1.46', '1.98', '1.01', '1.35', '1.23', '1.81', '2.42',\n",
       "       '0.76', '2.65', '1.08', '1.21', '2.31', '0.93', '1.04', '3.67',\n",
       "       '2.52', '1.45', '2.35', '1.3', '2.46', '2.39', '0.9', '2.54',\n",
       "       '1.57', '1.96', '1.61', '1.97', '2.09', '1.19', '2.83', '0.07',\n",
       "       '2.18', '1.2', '2.28', '1.28', '0.97', '0.95', '1.15', '3.33',\n",
       "       '3.02', '2.3', '2.61', '2.33', '1.42', '0.82', '2.19', '1.82',\n",
       "       '1.47', '1.18', '1.41', '0.8', '1.94', '2.69', '2.82', '0.75',\n",
       "       '3.17', '1.38', '3.29', '1.62', '2.86', '2.51', '2.48', '3.06',\n",
       "       '1.55', '3.38', '2.12', '1.4', '1.91', '1.27', '0.35', '0.28',\n",
       "       '2.36', '3.3', '0.89', '1.17', '1.5', '1.05', '1.34', '2.05',\n",
       "       '2.64', '2.68', '0.6', '2.5', '2.45', '0.11', '0.16', '0.18',\n",
       "       '1.24', '2.72', '1.53', '2.94', '2.06', '1.83', '1.56', '2.29',\n",
       "       '0.3', '0.37', '0.05', '0.12', '1.13', '1.86', '3.57', '1.49',\n",
       "       '3.2', '1.37', '3.75', '3', '3.71', '2.32', '1.32', '1.92', '1.43',\n",
       "       '3.61', '3.55', '2.95', '2.11', '2.96', '3.35', '0.99', '3.23',\n",
       "       '0.91', '3.39', '1.22', '3.66', '0.88', '0.14', '1.89', '1.07',\n",
       "       '2.58', '1.74', '1.09'], dtype=object)"
      ]
     },
     "execution_count": 39,
     "metadata": {},
     "output_type": "execute_result"
    }
   ],
   "source": [
    "df['RF'].unique()"
   ]
  },
  {
   "cell_type": "code",
   "execution_count": 40,
   "metadata": {},
   "outputs": [
    {
     "data": {
      "text/plain": [
       "array(['0.22', '1.46', nan, ..., '421.59', '279.79', '113.21'],\n",
       "      dtype=object)"
      ]
     },
     "execution_count": 40,
     "metadata": {},
     "output_type": "execute_result"
    }
   ],
   "source": [
    "df['SR'].unique()"
   ]
  },
  {
   "cell_type": "code",
   "execution_count": 41,
   "metadata": {},
   "outputs": [],
   "source": [
    "df['BP']=pd.to_numeric(df['BP'])"
   ]
  },
  {
   "cell_type": "code",
   "execution_count": 32,
   "metadata": {},
   "outputs": [],
   "source": [
    "##rEPACLING NONE values\n",
    "\n",
    "df=df.replace(['None'],np.NaN)"
   ]
  },
  {
   "cell_type": "code",
   "execution_count": 42,
   "metadata": {},
   "outputs": [],
   "source": [
    "df['PM2.5']=pd.to_numeric(df['PM2.5'])\n",
    "df['PM10']=pd.to_numeric(df['PM10'])\n",
    "df['NO2']=pd.to_numeric(df['NO2'])\n",
    "df['SO2']=pd.to_numeric(df['SO2'])\n",
    "df['WS']=pd.to_numeric(df['WS'])\n",
    "df['WD']=pd.to_numeric(df['WD'])\n",
    "df['AT']=pd.to_numeric(df['AT'])\n",
    "df['RF']=pd.to_numeric(df['RF'])\n",
    "df['SR']=pd.to_numeric(df['SR'])\n",
    "df['BP']=pd.to_numeric(df['BP'])"
   ]
  },
  {
   "cell_type": "code",
   "execution_count": 43,
   "metadata": {},
   "outputs": [
    {
     "data": {
      "text/html": [
       "<div>\n",
       "<style scoped>\n",
       "    .dataframe tbody tr th:only-of-type {\n",
       "        vertical-align: middle;\n",
       "    }\n",
       "\n",
       "    .dataframe tbody tr th {\n",
       "        vertical-align: top;\n",
       "    }\n",
       "\n",
       "    .dataframe thead th {\n",
       "        text-align: right;\n",
       "    }\n",
       "</style>\n",
       "<table border=\"1\" class=\"dataframe\">\n",
       "  <thead>\n",
       "    <tr style=\"text-align: right;\">\n",
       "      <th></th>\n",
       "      <th>PM2.5</th>\n",
       "      <th>PM10</th>\n",
       "      <th>NO</th>\n",
       "      <th>NO2</th>\n",
       "      <th>Nox</th>\n",
       "      <th>NH3</th>\n",
       "      <th>SO2</th>\n",
       "      <th>CO</th>\n",
       "      <th>Ozone</th>\n",
       "      <th>Benzene</th>\n",
       "      <th>Eth-Benzene</th>\n",
       "      <th>MP-Xylene</th>\n",
       "      <th>WS</th>\n",
       "      <th>WD</th>\n",
       "      <th>SR</th>\n",
       "      <th>BP</th>\n",
       "      <th>AT</th>\n",
       "      <th>RF</th>\n",
       "    </tr>\n",
       "    <tr>\n",
       "      <th>From Date</th>\n",
       "      <th></th>\n",
       "      <th></th>\n",
       "      <th></th>\n",
       "      <th></th>\n",
       "      <th></th>\n",
       "      <th></th>\n",
       "      <th></th>\n",
       "      <th></th>\n",
       "      <th></th>\n",
       "      <th></th>\n",
       "      <th></th>\n",
       "      <th></th>\n",
       "      <th></th>\n",
       "      <th></th>\n",
       "      <th></th>\n",
       "      <th></th>\n",
       "      <th></th>\n",
       "      <th></th>\n",
       "    </tr>\n",
       "  </thead>\n",
       "  <tbody>\n",
       "    <tr>\n",
       "      <th>2019-02-18 00:00:00</th>\n",
       "      <td>False</td>\n",
       "      <td>False</td>\n",
       "      <td>False</td>\n",
       "      <td>False</td>\n",
       "      <td>False</td>\n",
       "      <td>False</td>\n",
       "      <td>False</td>\n",
       "      <td>False</td>\n",
       "      <td>False</td>\n",
       "      <td>False</td>\n",
       "      <td>True</td>\n",
       "      <td>False</td>\n",
       "      <td>False</td>\n",
       "      <td>False</td>\n",
       "      <td>False</td>\n",
       "      <td>False</td>\n",
       "      <td>False</td>\n",
       "      <td>False</td>\n",
       "    </tr>\n",
       "    <tr>\n",
       "      <th>2019-02-18 01:00:00</th>\n",
       "      <td>False</td>\n",
       "      <td>False</td>\n",
       "      <td>False</td>\n",
       "      <td>False</td>\n",
       "      <td>False</td>\n",
       "      <td>False</td>\n",
       "      <td>False</td>\n",
       "      <td>False</td>\n",
       "      <td>False</td>\n",
       "      <td>False</td>\n",
       "      <td>True</td>\n",
       "      <td>False</td>\n",
       "      <td>False</td>\n",
       "      <td>False</td>\n",
       "      <td>False</td>\n",
       "      <td>False</td>\n",
       "      <td>False</td>\n",
       "      <td>False</td>\n",
       "    </tr>\n",
       "    <tr>\n",
       "      <th>2019-02-18 02:00:00</th>\n",
       "      <td>False</td>\n",
       "      <td>False</td>\n",
       "      <td>False</td>\n",
       "      <td>False</td>\n",
       "      <td>False</td>\n",
       "      <td>False</td>\n",
       "      <td>False</td>\n",
       "      <td>False</td>\n",
       "      <td>False</td>\n",
       "      <td>False</td>\n",
       "      <td>True</td>\n",
       "      <td>False</td>\n",
       "      <td>False</td>\n",
       "      <td>False</td>\n",
       "      <td>True</td>\n",
       "      <td>False</td>\n",
       "      <td>False</td>\n",
       "      <td>False</td>\n",
       "    </tr>\n",
       "    <tr>\n",
       "      <th>2019-02-18 03:00:00</th>\n",
       "      <td>False</td>\n",
       "      <td>False</td>\n",
       "      <td>False</td>\n",
       "      <td>False</td>\n",
       "      <td>False</td>\n",
       "      <td>False</td>\n",
       "      <td>False</td>\n",
       "      <td>False</td>\n",
       "      <td>False</td>\n",
       "      <td>False</td>\n",
       "      <td>True</td>\n",
       "      <td>False</td>\n",
       "      <td>False</td>\n",
       "      <td>False</td>\n",
       "      <td>True</td>\n",
       "      <td>False</td>\n",
       "      <td>False</td>\n",
       "      <td>False</td>\n",
       "    </tr>\n",
       "    <tr>\n",
       "      <th>2019-02-18 04:00:00</th>\n",
       "      <td>False</td>\n",
       "      <td>False</td>\n",
       "      <td>False</td>\n",
       "      <td>False</td>\n",
       "      <td>False</td>\n",
       "      <td>False</td>\n",
       "      <td>False</td>\n",
       "      <td>False</td>\n",
       "      <td>False</td>\n",
       "      <td>False</td>\n",
       "      <td>True</td>\n",
       "      <td>False</td>\n",
       "      <td>False</td>\n",
       "      <td>False</td>\n",
       "      <td>True</td>\n",
       "      <td>False</td>\n",
       "      <td>False</td>\n",
       "      <td>False</td>\n",
       "    </tr>\n",
       "    <tr>\n",
       "      <th>...</th>\n",
       "      <td>...</td>\n",
       "      <td>...</td>\n",
       "      <td>...</td>\n",
       "      <td>...</td>\n",
       "      <td>...</td>\n",
       "      <td>...</td>\n",
       "      <td>...</td>\n",
       "      <td>...</td>\n",
       "      <td>...</td>\n",
       "      <td>...</td>\n",
       "      <td>...</td>\n",
       "      <td>...</td>\n",
       "      <td>...</td>\n",
       "      <td>...</td>\n",
       "      <td>...</td>\n",
       "      <td>...</td>\n",
       "      <td>...</td>\n",
       "      <td>...</td>\n",
       "    </tr>\n",
       "    <tr>\n",
       "      <th>2022-12-30 20:00:00</th>\n",
       "      <td>False</td>\n",
       "      <td>False</td>\n",
       "      <td>False</td>\n",
       "      <td>False</td>\n",
       "      <td>False</td>\n",
       "      <td>False</td>\n",
       "      <td>False</td>\n",
       "      <td>False</td>\n",
       "      <td>False</td>\n",
       "      <td>False</td>\n",
       "      <td>False</td>\n",
       "      <td>False</td>\n",
       "      <td>False</td>\n",
       "      <td>False</td>\n",
       "      <td>True</td>\n",
       "      <td>False</td>\n",
       "      <td>False</td>\n",
       "      <td>False</td>\n",
       "    </tr>\n",
       "    <tr>\n",
       "      <th>2022-12-30 21:00:00</th>\n",
       "      <td>False</td>\n",
       "      <td>False</td>\n",
       "      <td>False</td>\n",
       "      <td>False</td>\n",
       "      <td>False</td>\n",
       "      <td>False</td>\n",
       "      <td>False</td>\n",
       "      <td>False</td>\n",
       "      <td>False</td>\n",
       "      <td>False</td>\n",
       "      <td>False</td>\n",
       "      <td>False</td>\n",
       "      <td>False</td>\n",
       "      <td>False</td>\n",
       "      <td>False</td>\n",
       "      <td>False</td>\n",
       "      <td>False</td>\n",
       "      <td>False</td>\n",
       "    </tr>\n",
       "    <tr>\n",
       "      <th>2022-12-30 22:00:00</th>\n",
       "      <td>False</td>\n",
       "      <td>False</td>\n",
       "      <td>False</td>\n",
       "      <td>False</td>\n",
       "      <td>False</td>\n",
       "      <td>False</td>\n",
       "      <td>False</td>\n",
       "      <td>False</td>\n",
       "      <td>False</td>\n",
       "      <td>False</td>\n",
       "      <td>False</td>\n",
       "      <td>False</td>\n",
       "      <td>False</td>\n",
       "      <td>False</td>\n",
       "      <td>True</td>\n",
       "      <td>False</td>\n",
       "      <td>False</td>\n",
       "      <td>False</td>\n",
       "    </tr>\n",
       "    <tr>\n",
       "      <th>2022-12-30 23:00:00</th>\n",
       "      <td>False</td>\n",
       "      <td>False</td>\n",
       "      <td>False</td>\n",
       "      <td>False</td>\n",
       "      <td>False</td>\n",
       "      <td>False</td>\n",
       "      <td>False</td>\n",
       "      <td>False</td>\n",
       "      <td>False</td>\n",
       "      <td>False</td>\n",
       "      <td>False</td>\n",
       "      <td>False</td>\n",
       "      <td>False</td>\n",
       "      <td>False</td>\n",
       "      <td>False</td>\n",
       "      <td>False</td>\n",
       "      <td>False</td>\n",
       "      <td>False</td>\n",
       "    </tr>\n",
       "    <tr>\n",
       "      <th>2022-12-31 00:00:00</th>\n",
       "      <td>False</td>\n",
       "      <td>False</td>\n",
       "      <td>True</td>\n",
       "      <td>True</td>\n",
       "      <td>True</td>\n",
       "      <td>True</td>\n",
       "      <td>True</td>\n",
       "      <td>True</td>\n",
       "      <td>True</td>\n",
       "      <td>True</td>\n",
       "      <td>False</td>\n",
       "      <td>False</td>\n",
       "      <td>False</td>\n",
       "      <td>False</td>\n",
       "      <td>True</td>\n",
       "      <td>True</td>\n",
       "      <td>False</td>\n",
       "      <td>False</td>\n",
       "    </tr>\n",
       "  </tbody>\n",
       "</table>\n",
       "<p>33067 rows × 18 columns</p>\n",
       "</div>"
      ],
      "text/plain": [
       "                     PM2.5   PM10     NO    NO2    Nox    NH3    SO2     CO  \\\n",
       "From Date                                                                     \n",
       "2019-02-18 00:00:00  False  False  False  False  False  False  False  False   \n",
       "2019-02-18 01:00:00  False  False  False  False  False  False  False  False   \n",
       "2019-02-18 02:00:00  False  False  False  False  False  False  False  False   \n",
       "2019-02-18 03:00:00  False  False  False  False  False  False  False  False   \n",
       "2019-02-18 04:00:00  False  False  False  False  False  False  False  False   \n",
       "...                    ...    ...    ...    ...    ...    ...    ...    ...   \n",
       "2022-12-30 20:00:00  False  False  False  False  False  False  False  False   \n",
       "2022-12-30 21:00:00  False  False  False  False  False  False  False  False   \n",
       "2022-12-30 22:00:00  False  False  False  False  False  False  False  False   \n",
       "2022-12-30 23:00:00  False  False  False  False  False  False  False  False   \n",
       "2022-12-31 00:00:00  False  False   True   True   True   True   True   True   \n",
       "\n",
       "                     Ozone  Benzene  Eth-Benzene  MP-Xylene     WS     WD  \\\n",
       "From Date                                                                   \n",
       "2019-02-18 00:00:00  False    False         True      False  False  False   \n",
       "2019-02-18 01:00:00  False    False         True      False  False  False   \n",
       "2019-02-18 02:00:00  False    False         True      False  False  False   \n",
       "2019-02-18 03:00:00  False    False         True      False  False  False   \n",
       "2019-02-18 04:00:00  False    False         True      False  False  False   \n",
       "...                    ...      ...          ...        ...    ...    ...   \n",
       "2022-12-30 20:00:00  False    False        False      False  False  False   \n",
       "2022-12-30 21:00:00  False    False        False      False  False  False   \n",
       "2022-12-30 22:00:00  False    False        False      False  False  False   \n",
       "2022-12-30 23:00:00  False    False        False      False  False  False   \n",
       "2022-12-31 00:00:00   True     True        False      False  False  False   \n",
       "\n",
       "                        SR     BP     AT     RF  \n",
       "From Date                                        \n",
       "2019-02-18 00:00:00  False  False  False  False  \n",
       "2019-02-18 01:00:00  False  False  False  False  \n",
       "2019-02-18 02:00:00   True  False  False  False  \n",
       "2019-02-18 03:00:00   True  False  False  False  \n",
       "2019-02-18 04:00:00   True  False  False  False  \n",
       "...                    ...    ...    ...    ...  \n",
       "2022-12-30 20:00:00   True  False  False  False  \n",
       "2022-12-30 21:00:00  False  False  False  False  \n",
       "2022-12-30 22:00:00   True  False  False  False  \n",
       "2022-12-30 23:00:00  False  False  False  False  \n",
       "2022-12-31 00:00:00   True   True  False  False  \n",
       "\n",
       "[33067 rows x 18 columns]"
      ]
     },
     "execution_count": 43,
     "metadata": {},
     "output_type": "execute_result"
    }
   ],
   "source": [
    "df.isnull()"
   ]
  },
  {
   "cell_type": "code",
   "execution_count": 45,
   "metadata": {},
   "outputs": [
    {
     "data": {
      "text/plain": [
       "PM2.5           1816\n",
       "PM10            1277\n",
       "NO              1671\n",
       "NO2              674\n",
       "Nox              451\n",
       "NH3             1362\n",
       "SO2              475\n",
       "CO               451\n",
       "Ozone            594\n",
       "Benzene         2106\n",
       "Eth-Benzene    16617\n",
       "MP-Xylene      10408\n",
       "WS              1584\n",
       "WD              1539\n",
       "SR             12883\n",
       "BP             11191\n",
       "AT              1605\n",
       "RF               444\n",
       "dtype: int64"
      ]
     },
     "execution_count": 45,
     "metadata": {},
     "output_type": "execute_result"
    }
   ],
   "source": [
    "df.isnull().sum()  ##missing values "
   ]
  },
  {
   "cell_type": "code",
   "execution_count": 49,
   "metadata": {},
   "outputs": [
    {
     "data": {
      "text/html": [
       "<div>\n",
       "<style scoped>\n",
       "    .dataframe tbody tr th:only-of-type {\n",
       "        vertical-align: middle;\n",
       "    }\n",
       "\n",
       "    .dataframe tbody tr th {\n",
       "        vertical-align: top;\n",
       "    }\n",
       "\n",
       "    .dataframe thead th {\n",
       "        text-align: right;\n",
       "    }\n",
       "</style>\n",
       "<table border=\"1\" class=\"dataframe\">\n",
       "  <thead>\n",
       "    <tr style=\"text-align: right;\">\n",
       "      <th></th>\n",
       "      <th>Missing Values</th>\n",
       "    </tr>\n",
       "  </thead>\n",
       "  <tbody>\n",
       "    <tr>\n",
       "      <th>PM2.5</th>\n",
       "      <td>0</td>\n",
       "    </tr>\n",
       "    <tr>\n",
       "      <th>PM10</th>\n",
       "      <td>0</td>\n",
       "    </tr>\n",
       "    <tr>\n",
       "      <th>NO</th>\n",
       "      <td>0</td>\n",
       "    </tr>\n",
       "    <tr>\n",
       "      <th>NO2</th>\n",
       "      <td>0</td>\n",
       "    </tr>\n",
       "    <tr>\n",
       "      <th>Nox</th>\n",
       "      <td>0</td>\n",
       "    </tr>\n",
       "    <tr>\n",
       "      <th>NH3</th>\n",
       "      <td>0</td>\n",
       "    </tr>\n",
       "    <tr>\n",
       "      <th>SO2</th>\n",
       "      <td>0</td>\n",
       "    </tr>\n",
       "    <tr>\n",
       "      <th>CO</th>\n",
       "      <td>0</td>\n",
       "    </tr>\n",
       "    <tr>\n",
       "      <th>Ozone</th>\n",
       "      <td>0</td>\n",
       "    </tr>\n",
       "    <tr>\n",
       "      <th>Benzene</th>\n",
       "      <td>0</td>\n",
       "    </tr>\n",
       "    <tr>\n",
       "      <th>Eth-Benzene</th>\n",
       "      <td>0</td>\n",
       "    </tr>\n",
       "    <tr>\n",
       "      <th>MP-Xylene</th>\n",
       "      <td>0</td>\n",
       "    </tr>\n",
       "    <tr>\n",
       "      <th>WS</th>\n",
       "      <td>0</td>\n",
       "    </tr>\n",
       "    <tr>\n",
       "      <th>WD</th>\n",
       "      <td>0</td>\n",
       "    </tr>\n",
       "    <tr>\n",
       "      <th>SR</th>\n",
       "      <td>0</td>\n",
       "    </tr>\n",
       "    <tr>\n",
       "      <th>BP</th>\n",
       "      <td>0</td>\n",
       "    </tr>\n",
       "    <tr>\n",
       "      <th>AT</th>\n",
       "      <td>0</td>\n",
       "    </tr>\n",
       "    <tr>\n",
       "      <th>RF</th>\n",
       "      <td>26730</td>\n",
       "    </tr>\n",
       "  </tbody>\n",
       "</table>\n",
       "</div>"
      ],
      "text/plain": [
       "             Missing Values\n",
       "PM2.5                     0\n",
       "PM10                      0\n",
       "NO                        0\n",
       "NO2                       0\n",
       "Nox                       0\n",
       "NH3                       0\n",
       "SO2                       0\n",
       "CO                        0\n",
       "Ozone                     0\n",
       "Benzene                   0\n",
       "Eth-Benzene               0\n",
       "MP-Xylene                 0\n",
       "WS                        0\n",
       "WD                        0\n",
       "SR                        0\n",
       "BP                        0\n",
       "AT                        0\n",
       "RF                    26730"
      ]
     },
     "execution_count": 49,
     "metadata": {},
     "output_type": "execute_result"
    }
   ],
   "source": [
    "#(df==0).sum(axis=0)\n",
    "def missing_zero_values_table(df):\n",
    "        zero_val = (df == 0).astype(int).sum(axis=0)\n",
    "        mz_table = pd.concat([zero_val], axis=1)\n",
    "        mz_table = mz_table.rename(\n",
    "        columns = {0 : 'Missing Values'})\n",
    "        \n",
    "        return mz_table\n",
    "\n",
    "missing_zero_values_table(df)"
   ]
  },
  {
   "cell_type": "code",
   "execution_count": 50,
   "metadata": {},
   "outputs": [
    {
     "name": "stdout",
     "output_type": "stream",
     "text": [
      "<class 'pandas.core.frame.DataFrame'>\n",
      "DatetimeIndex: 33067 entries, 2019-02-18 00:00:00 to 2022-12-31 00:00:00\n",
      "Data columns (total 18 columns):\n",
      " #   Column       Non-Null Count  Dtype  \n",
      "---  ------       --------------  -----  \n",
      " 0   PM2.5        31251 non-null  float64\n",
      " 1   PM10         31790 non-null  float64\n",
      " 2   NO           31396 non-null  object \n",
      " 3   NO2          32393 non-null  float64\n",
      " 4   Nox          32616 non-null  object \n",
      " 5   NH3          31705 non-null  object \n",
      " 6   SO2          32592 non-null  float64\n",
      " 7   CO           32616 non-null  object \n",
      " 8   Ozone        32473 non-null  object \n",
      " 9   Benzene      30961 non-null  object \n",
      " 10  Eth-Benzene  16450 non-null  object \n",
      " 11  MP-Xylene    22659 non-null  object \n",
      " 12  WS           31483 non-null  float64\n",
      " 13  WD           31528 non-null  float64\n",
      " 14  SR           20184 non-null  float64\n",
      " 15  BP           21876 non-null  float64\n",
      " 16  AT           31462 non-null  float64\n",
      " 17  RF           32623 non-null  float64\n",
      "dtypes: float64(10), object(8)\n",
      "memory usage: 4.8+ MB\n"
     ]
    }
   ],
   "source": [
    "df.info()"
   ]
  },
  {
   "cell_type": "code",
   "execution_count": 51,
   "metadata": {},
   "outputs": [],
   "source": [
    "\n",
    "df['PM2.5']=df['PM2.5'].fillna(df['PM2.5'].mean())\n",
    "df['PM10']=df['PM10'].fillna(df['PM10'].mean())\n",
    "df['NO2']=df['NO2'].fillna(df['NO2'].mean())\n",
    "df['SO2']=df['SO2'].fillna(df['SO2'].mean())\n",
    "df['WS']=df['WS'].fillna(df['WS'].mean())\n",
    "df['WD']=df['WD'].fillna(df['WD'].mean())\n",
    "df['AT']=df['AT'].fillna(df['AT'].mean())\n",
    "df['SR']=df['SR'].fillna(df['SR'].mean())\n",
    "df['BP']=df['BP'].fillna(df['BP'].mean())\n"
   ]
  },
  {
   "cell_type": "code",
   "execution_count": 52,
   "metadata": {},
   "outputs": [
    {
     "data": {
      "text/html": [
       "<div>\n",
       "<style scoped>\n",
       "    .dataframe tbody tr th:only-of-type {\n",
       "        vertical-align: middle;\n",
       "    }\n",
       "\n",
       "    .dataframe tbody tr th {\n",
       "        vertical-align: top;\n",
       "    }\n",
       "\n",
       "    .dataframe thead th {\n",
       "        text-align: right;\n",
       "    }\n",
       "</style>\n",
       "<table border=\"1\" class=\"dataframe\">\n",
       "  <thead>\n",
       "    <tr style=\"text-align: right;\">\n",
       "      <th></th>\n",
       "      <th>PM2.5</th>\n",
       "      <th>PM10</th>\n",
       "      <th>NO</th>\n",
       "      <th>NO2</th>\n",
       "      <th>Nox</th>\n",
       "      <th>NH3</th>\n",
       "      <th>SO2</th>\n",
       "      <th>CO</th>\n",
       "      <th>Ozone</th>\n",
       "      <th>Benzene</th>\n",
       "      <th>Eth-Benzene</th>\n",
       "      <th>MP-Xylene</th>\n",
       "      <th>WS</th>\n",
       "      <th>WD</th>\n",
       "      <th>SR</th>\n",
       "      <th>BP</th>\n",
       "      <th>AT</th>\n",
       "      <th>RF</th>\n",
       "    </tr>\n",
       "    <tr>\n",
       "      <th>From Date</th>\n",
       "      <th></th>\n",
       "      <th></th>\n",
       "      <th></th>\n",
       "      <th></th>\n",
       "      <th></th>\n",
       "      <th></th>\n",
       "      <th></th>\n",
       "      <th></th>\n",
       "      <th></th>\n",
       "      <th></th>\n",
       "      <th></th>\n",
       "      <th></th>\n",
       "      <th></th>\n",
       "      <th></th>\n",
       "      <th></th>\n",
       "      <th></th>\n",
       "      <th></th>\n",
       "      <th></th>\n",
       "    </tr>\n",
       "  </thead>\n",
       "  <tbody>\n",
       "    <tr>\n",
       "      <th>2019-02-18 00:00:00</th>\n",
       "      <td>58.04</td>\n",
       "      <td>81.06</td>\n",
       "      <td>1.81</td>\n",
       "      <td>6.40</td>\n",
       "      <td>9.66</td>\n",
       "      <td>27.18</td>\n",
       "      <td>13.77</td>\n",
       "      <td>0.49</td>\n",
       "      <td>15.73</td>\n",
       "      <td>0.92</td>\n",
       "      <td>NaN</td>\n",
       "      <td>0.33</td>\n",
       "      <td>1.86</td>\n",
       "      <td>229.44</td>\n",
       "      <td>0.220000</td>\n",
       "      <td>1002.19</td>\n",
       "      <td>20.87</td>\n",
       "      <td>0.00</td>\n",
       "    </tr>\n",
       "    <tr>\n",
       "      <th>2019-02-18 01:00:00</th>\n",
       "      <td>60.00</td>\n",
       "      <td>82.39</td>\n",
       "      <td>1.91</td>\n",
       "      <td>6.08</td>\n",
       "      <td>9.7</td>\n",
       "      <td>26.46</td>\n",
       "      <td>13.64</td>\n",
       "      <td>0.44</td>\n",
       "      <td>18.36</td>\n",
       "      <td>0.84</td>\n",
       "      <td>NaN</td>\n",
       "      <td>0.29</td>\n",
       "      <td>1.54</td>\n",
       "      <td>217.20</td>\n",
       "      <td>1.460000</td>\n",
       "      <td>956.00</td>\n",
       "      <td>18.92</td>\n",
       "      <td>0.24</td>\n",
       "    </tr>\n",
       "    <tr>\n",
       "      <th>2019-02-18 02:00:00</th>\n",
       "      <td>55.50</td>\n",
       "      <td>73.42</td>\n",
       "      <td>2.22</td>\n",
       "      <td>6.71</td>\n",
       "      <td>10.86</td>\n",
       "      <td>27.06</td>\n",
       "      <td>13.64</td>\n",
       "      <td>0.44</td>\n",
       "      <td>34.54</td>\n",
       "      <td>0.77</td>\n",
       "      <td>NaN</td>\n",
       "      <td>0.23</td>\n",
       "      <td>0.66</td>\n",
       "      <td>197.21</td>\n",
       "      <td>241.906008</td>\n",
       "      <td>1001.60</td>\n",
       "      <td>18.33</td>\n",
       "      <td>0.00</td>\n",
       "    </tr>\n",
       "    <tr>\n",
       "      <th>2019-02-18 03:00:00</th>\n",
       "      <td>66.56</td>\n",
       "      <td>96.04</td>\n",
       "      <td>2.79</td>\n",
       "      <td>7.00</td>\n",
       "      <td>12.1</td>\n",
       "      <td>26.34</td>\n",
       "      <td>13.72</td>\n",
       "      <td>0.45</td>\n",
       "      <td>31.85</td>\n",
       "      <td>0.82</td>\n",
       "      <td>NaN</td>\n",
       "      <td>0.21</td>\n",
       "      <td>0.61</td>\n",
       "      <td>206.44</td>\n",
       "      <td>241.906008</td>\n",
       "      <td>1001.41</td>\n",
       "      <td>17.63</td>\n",
       "      <td>0.00</td>\n",
       "    </tr>\n",
       "    <tr>\n",
       "      <th>2019-02-18 04:00:00</th>\n",
       "      <td>67.08</td>\n",
       "      <td>97.21</td>\n",
       "      <td>3.29</td>\n",
       "      <td>9.45</td>\n",
       "      <td>15.53</td>\n",
       "      <td>25.16</td>\n",
       "      <td>13.80</td>\n",
       "      <td>0.47</td>\n",
       "      <td>24.07</td>\n",
       "      <td>0.74</td>\n",
       "      <td>NaN</td>\n",
       "      <td>0.22</td>\n",
       "      <td>0.54</td>\n",
       "      <td>230.53</td>\n",
       "      <td>241.906008</td>\n",
       "      <td>980.67</td>\n",
       "      <td>16.61</td>\n",
       "      <td>0.00</td>\n",
       "    </tr>\n",
       "  </tbody>\n",
       "</table>\n",
       "</div>"
      ],
      "text/plain": [
       "                     PM2.5   PM10    NO   NO2    Nox    NH3    SO2    CO  \\\n",
       "From Date                                                                  \n",
       "2019-02-18 00:00:00  58.04  81.06  1.81  6.40   9.66  27.18  13.77  0.49   \n",
       "2019-02-18 01:00:00  60.00  82.39  1.91  6.08    9.7  26.46  13.64  0.44   \n",
       "2019-02-18 02:00:00  55.50  73.42  2.22  6.71  10.86  27.06  13.64  0.44   \n",
       "2019-02-18 03:00:00  66.56  96.04  2.79  7.00   12.1  26.34  13.72  0.45   \n",
       "2019-02-18 04:00:00  67.08  97.21  3.29  9.45  15.53  25.16  13.80  0.47   \n",
       "\n",
       "                     Ozone Benzene Eth-Benzene MP-Xylene    WS      WD  \\\n",
       "From Date                                                                \n",
       "2019-02-18 00:00:00  15.73    0.92         NaN      0.33  1.86  229.44   \n",
       "2019-02-18 01:00:00  18.36    0.84         NaN      0.29  1.54  217.20   \n",
       "2019-02-18 02:00:00  34.54    0.77         NaN      0.23  0.66  197.21   \n",
       "2019-02-18 03:00:00  31.85    0.82         NaN      0.21  0.61  206.44   \n",
       "2019-02-18 04:00:00  24.07    0.74         NaN      0.22  0.54  230.53   \n",
       "\n",
       "                             SR       BP     AT    RF  \n",
       "From Date                                              \n",
       "2019-02-18 00:00:00    0.220000  1002.19  20.87  0.00  \n",
       "2019-02-18 01:00:00    1.460000   956.00  18.92  0.24  \n",
       "2019-02-18 02:00:00  241.906008  1001.60  18.33  0.00  \n",
       "2019-02-18 03:00:00  241.906008  1001.41  17.63  0.00  \n",
       "2019-02-18 04:00:00  241.906008   980.67  16.61  0.00  "
      ]
     },
     "execution_count": 52,
     "metadata": {},
     "output_type": "execute_result"
    }
   ],
   "source": [
    "df.head()"
   ]
  },
  {
   "cell_type": "code",
   "execution_count": 54,
   "metadata": {},
   "outputs": [
    {
     "data": {
      "text/plain": [
       "PM2.5              0\n",
       "PM10               0\n",
       "NO                 0\n",
       "NO2                0\n",
       "Nox                0\n",
       "NH3                0\n",
       "SO2                0\n",
       "CO                 0\n",
       "Ozone              0\n",
       "Benzene            0\n",
       "Eth-Benzene        0\n",
       "MP-Xylene          0\n",
       "WS                 0\n",
       "WD                 0\n",
       "SR                 0\n",
       "BP                 0\n",
       "AT                 0\n",
       "RF             26730\n",
       "dtype: int64"
      ]
     },
     "execution_count": 54,
     "metadata": {},
     "output_type": "execute_result"
    }
   ],
   "source": [
    "(df==0).sum(axis=0)"
   ]
  },
  {
   "cell_type": "code",
   "execution_count": 58,
   "metadata": {},
   "outputs": [
    {
     "data": {
      "image/png": "[encoded data removed]",
      "text/plain": [
       "<Figure size 432x288 with 2 Axes>"
      ]
     },
     "metadata": {
      "needs_background": "light"
     },
     "output_type": "display_data"
    }
   ],
   "source": [
    "corrmat=df.corr()  ##Correlation mapping seaborn heatmap\n",
    "sns.heatmap(corrmat,annot=True,cmap='coolwarm')\n",
    "plt.show()\n"
   ]
  },
  {
   "cell_type": "code",
   "execution_count": 60,
   "metadata": {},
   "outputs": [
    {
     "name": "stderr",
     "output_type": "stream",
     "text": [
      "C:\\Users\\SURUJ_KALITA\\anaconda3\\lib\\site-packages\\seaborn\\_decorators.py:36: FutureWarning: Pass the following variable as a keyword arg: x. From version 0.12, the only valid positional argument will be `data`, and passing other arguments without an explicit keyword will result in an error or misinterpretation.\n",
      "  warnings.warn(\n"
     ]
    },
    {
     "data": {
      "text/plain": [
       "<AxesSubplot:xlabel='SR'>"
      ]
     },
     "execution_count": 60,
     "metadata": {},
     "output_type": "execute_result"
    },
    {
     "data": {
      "image/png": "[encoded data removed]",
      "text/plain": [
       "<Figure size 432x288 with 1 Axes>"
      ]
     },
     "metadata": {
      "needs_background": "light"
     },
     "output_type": "display_data"
    }
   ],
   "source": [
    "#checking outliers\n",
    "sns.boxplot(df['SR'])"
   ]
  },
  {
   "cell_type": "code",
   "execution_count": 62,
   "metadata": {},
   "outputs": [],
   "source": [
    "df1=df['PM10']   ##pm10 column\n"
   ]
  },
  {
   "cell_type": "code",
   "execution_count": 63,
   "metadata": {},
   "outputs": [],
   "source": [
    "def findoutliers(df1):\n",
    "    q1=df1.quantile(0.25)\n",
    "    q3=df1.quantile(0.75)\n",
    "    IQR=q3-q1\n",
    "    outliers=df1[((df1<q1-1.5*IQR)|(df1>q3+1.5*IQR))]\n",
    "    return outliers"
   ]
  },
  {
   "cell_type": "code",
   "execution_count": 66,
   "metadata": {},
   "outputs": [
    {
     "data": {
      "text/html": [
       "<div>\n",
       "<style scoped>\n",
       "    .dataframe tbody tr th:only-of-type {\n",
       "        vertical-align: middle;\n",
       "    }\n",
       "\n",
       "    .dataframe tbody tr th {\n",
       "        vertical-align: top;\n",
       "    }\n",
       "\n",
       "    .dataframe thead th {\n",
       "        text-align: right;\n",
       "    }\n",
       "</style>\n",
       "<table border=\"1\" class=\"dataframe\">\n",
       "  <thead>\n",
       "    <tr style=\"text-align: right;\">\n",
       "      <th></th>\n",
       "      <th>PM2.5</th>\n",
       "      <th>PM10</th>\n",
       "      <th>NO</th>\n",
       "      <th>NO2</th>\n",
       "      <th>Nox</th>\n",
       "      <th>NH3</th>\n",
       "      <th>SO2</th>\n",
       "      <th>CO</th>\n",
       "      <th>Ozone</th>\n",
       "      <th>Benzene</th>\n",
       "      <th>Eth-Benzene</th>\n",
       "      <th>MP-Xylene</th>\n",
       "      <th>WS</th>\n",
       "      <th>WD</th>\n",
       "      <th>SR</th>\n",
       "      <th>BP</th>\n",
       "      <th>AT</th>\n",
       "      <th>RF</th>\n",
       "    </tr>\n",
       "    <tr>\n",
       "      <th>From Date</th>\n",
       "      <th></th>\n",
       "      <th></th>\n",
       "      <th></th>\n",
       "      <th></th>\n",
       "      <th></th>\n",
       "      <th></th>\n",
       "      <th></th>\n",
       "      <th></th>\n",
       "      <th></th>\n",
       "      <th></th>\n",
       "      <th></th>\n",
       "      <th></th>\n",
       "      <th></th>\n",
       "      <th></th>\n",
       "      <th></th>\n",
       "      <th></th>\n",
       "      <th></th>\n",
       "      <th></th>\n",
       "    </tr>\n",
       "  </thead>\n",
       "  <tbody>\n",
       "    <tr>\n",
       "      <th>2019-02-18 00:00:00</th>\n",
       "      <td>58.04</td>\n",
       "      <td>81.06</td>\n",
       "      <td>1.81</td>\n",
       "      <td>6.400000</td>\n",
       "      <td>9.66</td>\n",
       "      <td>27.18</td>\n",
       "      <td>13.770000</td>\n",
       "      <td>0.49</td>\n",
       "      <td>15.73</td>\n",
       "      <td>0.92</td>\n",
       "      <td>NaN</td>\n",
       "      <td>0.33</td>\n",
       "      <td>1.86</td>\n",
       "      <td>229.44</td>\n",
       "      <td>0.220000</td>\n",
       "      <td>1002.190000</td>\n",
       "      <td>20.87</td>\n",
       "      <td>0.00</td>\n",
       "    </tr>\n",
       "    <tr>\n",
       "      <th>2019-02-18 01:00:00</th>\n",
       "      <td>60.00</td>\n",
       "      <td>82.39</td>\n",
       "      <td>1.91</td>\n",
       "      <td>6.080000</td>\n",
       "      <td>9.7</td>\n",
       "      <td>26.46</td>\n",
       "      <td>13.640000</td>\n",
       "      <td>0.44</td>\n",
       "      <td>18.36</td>\n",
       "      <td>0.84</td>\n",
       "      <td>NaN</td>\n",
       "      <td>0.29</td>\n",
       "      <td>1.54</td>\n",
       "      <td>217.20</td>\n",
       "      <td>1.460000</td>\n",
       "      <td>956.000000</td>\n",
       "      <td>18.92</td>\n",
       "      <td>0.24</td>\n",
       "    </tr>\n",
       "    <tr>\n",
       "      <th>2019-02-18 02:00:00</th>\n",
       "      <td>55.50</td>\n",
       "      <td>73.42</td>\n",
       "      <td>2.22</td>\n",
       "      <td>6.710000</td>\n",
       "      <td>10.86</td>\n",
       "      <td>27.06</td>\n",
       "      <td>13.640000</td>\n",
       "      <td>0.44</td>\n",
       "      <td>34.54</td>\n",
       "      <td>0.77</td>\n",
       "      <td>NaN</td>\n",
       "      <td>0.23</td>\n",
       "      <td>0.66</td>\n",
       "      <td>197.21</td>\n",
       "      <td>241.906008</td>\n",
       "      <td>1001.600000</td>\n",
       "      <td>18.33</td>\n",
       "      <td>0.00</td>\n",
       "    </tr>\n",
       "    <tr>\n",
       "      <th>2019-02-18 03:00:00</th>\n",
       "      <td>66.56</td>\n",
       "      <td>96.04</td>\n",
       "      <td>2.79</td>\n",
       "      <td>7.000000</td>\n",
       "      <td>12.1</td>\n",
       "      <td>26.34</td>\n",
       "      <td>13.720000</td>\n",
       "      <td>0.45</td>\n",
       "      <td>31.85</td>\n",
       "      <td>0.82</td>\n",
       "      <td>NaN</td>\n",
       "      <td>0.21</td>\n",
       "      <td>0.61</td>\n",
       "      <td>206.44</td>\n",
       "      <td>241.906008</td>\n",
       "      <td>1001.410000</td>\n",
       "      <td>17.63</td>\n",
       "      <td>0.00</td>\n",
       "    </tr>\n",
       "    <tr>\n",
       "      <th>2019-02-18 04:00:00</th>\n",
       "      <td>67.08</td>\n",
       "      <td>97.21</td>\n",
       "      <td>3.29</td>\n",
       "      <td>9.450000</td>\n",
       "      <td>15.53</td>\n",
       "      <td>25.16</td>\n",
       "      <td>13.800000</td>\n",
       "      <td>0.47</td>\n",
       "      <td>24.07</td>\n",
       "      <td>0.74</td>\n",
       "      <td>NaN</td>\n",
       "      <td>0.22</td>\n",
       "      <td>0.54</td>\n",
       "      <td>230.53</td>\n",
       "      <td>241.906008</td>\n",
       "      <td>980.670000</td>\n",
       "      <td>16.61</td>\n",
       "      <td>0.00</td>\n",
       "    </tr>\n",
       "    <tr>\n",
       "      <th>...</th>\n",
       "      <td>...</td>\n",
       "      <td>...</td>\n",
       "      <td>...</td>\n",
       "      <td>...</td>\n",
       "      <td>...</td>\n",
       "      <td>...</td>\n",
       "      <td>...</td>\n",
       "      <td>...</td>\n",
       "      <td>...</td>\n",
       "      <td>...</td>\n",
       "      <td>...</td>\n",
       "      <td>...</td>\n",
       "      <td>...</td>\n",
       "      <td>...</td>\n",
       "      <td>...</td>\n",
       "      <td>...</td>\n",
       "      <td>...</td>\n",
       "      <td>...</td>\n",
       "    </tr>\n",
       "    <tr>\n",
       "      <th>2022-12-30 20:00:00</th>\n",
       "      <td>295.72</td>\n",
       "      <td>371.83</td>\n",
       "      <td>5.54</td>\n",
       "      <td>2.620000</td>\n",
       "      <td>5.41</td>\n",
       "      <td>16.13</td>\n",
       "      <td>13.910000</td>\n",
       "      <td>2.64</td>\n",
       "      <td>22.82</td>\n",
       "      <td>2.96</td>\n",
       "      <td>3.16</td>\n",
       "      <td>3.37</td>\n",
       "      <td>0.31</td>\n",
       "      <td>168.12</td>\n",
       "      <td>241.906008</td>\n",
       "      <td>1009.220000</td>\n",
       "      <td>15.96</td>\n",
       "      <td>0.00</td>\n",
       "    </tr>\n",
       "    <tr>\n",
       "      <th>2022-12-30 21:00:00</th>\n",
       "      <td>362.60</td>\n",
       "      <td>448.50</td>\n",
       "      <td>5.61</td>\n",
       "      <td>2.620000</td>\n",
       "      <td>5.46</td>\n",
       "      <td>17.45</td>\n",
       "      <td>13.880000</td>\n",
       "      <td>2.79</td>\n",
       "      <td>5.66</td>\n",
       "      <td>3.12</td>\n",
       "      <td>3.34</td>\n",
       "      <td>3.56</td>\n",
       "      <td>0.69</td>\n",
       "      <td>132.27</td>\n",
       "      <td>11.170000</td>\n",
       "      <td>967.180000</td>\n",
       "      <td>14.93</td>\n",
       "      <td>0.48</td>\n",
       "    </tr>\n",
       "    <tr>\n",
       "      <th>2022-12-30 22:00:00</th>\n",
       "      <td>277.86</td>\n",
       "      <td>353.78</td>\n",
       "      <td>5.52</td>\n",
       "      <td>2.460000</td>\n",
       "      <td>5.29</td>\n",
       "      <td>17.92</td>\n",
       "      <td>13.740000</td>\n",
       "      <td>3.25</td>\n",
       "      <td>22.64</td>\n",
       "      <td>3.64</td>\n",
       "      <td>3.89</td>\n",
       "      <td>4.15</td>\n",
       "      <td>0.36</td>\n",
       "      <td>173.64</td>\n",
       "      <td>241.906008</td>\n",
       "      <td>1009.110000</td>\n",
       "      <td>15.22</td>\n",
       "      <td>0.00</td>\n",
       "    </tr>\n",
       "    <tr>\n",
       "      <th>2022-12-30 23:00:00</th>\n",
       "      <td>380.00</td>\n",
       "      <td>450.48</td>\n",
       "      <td>5.46</td>\n",
       "      <td>2.470000</td>\n",
       "      <td>5.32</td>\n",
       "      <td>18.01</td>\n",
       "      <td>14.120000</td>\n",
       "      <td>3.28</td>\n",
       "      <td>7.07</td>\n",
       "      <td>3.68</td>\n",
       "      <td>3.94</td>\n",
       "      <td>4.21</td>\n",
       "      <td>0.82</td>\n",
       "      <td>163.19</td>\n",
       "      <td>9.570000</td>\n",
       "      <td>912.740000</td>\n",
       "      <td>13.45</td>\n",
       "      <td>1.09</td>\n",
       "    </tr>\n",
       "    <tr>\n",
       "      <th>2022-12-31 00:00:00</th>\n",
       "      <td>295.00</td>\n",
       "      <td>389.00</td>\n",
       "      <td>NaN</td>\n",
       "      <td>9.837276</td>\n",
       "      <td>NaN</td>\n",
       "      <td>NaN</td>\n",
       "      <td>17.198509</td>\n",
       "      <td>NaN</td>\n",
       "      <td>NaN</td>\n",
       "      <td>NaN</td>\n",
       "      <td>4</td>\n",
       "      <td>4.27</td>\n",
       "      <td>0.43</td>\n",
       "      <td>109.33</td>\n",
       "      <td>241.906008</td>\n",
       "      <td>971.844817</td>\n",
       "      <td>14.60</td>\n",
       "      <td>0.00</td>\n",
       "    </tr>\n",
       "  </tbody>\n",
       "</table>\n",
       "<p>33067 rows × 18 columns</p>\n",
       "</div>"
      ],
      "text/plain": [
       "                      PM2.5    PM10    NO       NO2    Nox    NH3        SO2  \\\n",
       "From Date                                                                      \n",
       "2019-02-18 00:00:00   58.04   81.06  1.81  6.400000   9.66  27.18  13.770000   \n",
       "2019-02-18 01:00:00   60.00   82.39  1.91  6.080000    9.7  26.46  13.640000   \n",
       "2019-02-18 02:00:00   55.50   73.42  2.22  6.710000  10.86  27.06  13.640000   \n",
       "2019-02-18 03:00:00   66.56   96.04  2.79  7.000000   12.1  26.34  13.720000   \n",
       "2019-02-18 04:00:00   67.08   97.21  3.29  9.450000  15.53  25.16  13.800000   \n",
       "...                     ...     ...   ...       ...    ...    ...        ...   \n",
       "2022-12-30 20:00:00  295.72  371.83  5.54  2.620000   5.41  16.13  13.910000   \n",
       "2022-12-30 21:00:00  362.60  448.50  5.61  2.620000   5.46  17.45  13.880000   \n",
       "2022-12-30 22:00:00  277.86  353.78  5.52  2.460000   5.29  17.92  13.740000   \n",
       "2022-12-30 23:00:00  380.00  450.48  5.46  2.470000   5.32  18.01  14.120000   \n",
       "2022-12-31 00:00:00  295.00  389.00   NaN  9.837276    NaN    NaN  17.198509   \n",
       "\n",
       "                       CO  Ozone Benzene Eth-Benzene MP-Xylene    WS      WD  \\\n",
       "From Date                                                                      \n",
       "2019-02-18 00:00:00  0.49  15.73    0.92         NaN      0.33  1.86  229.44   \n",
       "2019-02-18 01:00:00  0.44  18.36    0.84         NaN      0.29  1.54  217.20   \n",
       "2019-02-18 02:00:00  0.44  34.54    0.77         NaN      0.23  0.66  197.21   \n",
       "2019-02-18 03:00:00  0.45  31.85    0.82         NaN      0.21  0.61  206.44   \n",
       "2019-02-18 04:00:00  0.47  24.07    0.74         NaN      0.22  0.54  230.53   \n",
       "...                   ...    ...     ...         ...       ...   ...     ...   \n",
       "2022-12-30 20:00:00  2.64  22.82    2.96        3.16      3.37  0.31  168.12   \n",
       "2022-12-30 21:00:00  2.79   5.66    3.12        3.34      3.56  0.69  132.27   \n",
       "2022-12-30 22:00:00  3.25  22.64    3.64        3.89      4.15  0.36  173.64   \n",
       "2022-12-30 23:00:00  3.28   7.07    3.68        3.94      4.21  0.82  163.19   \n",
       "2022-12-31 00:00:00   NaN    NaN     NaN           4      4.27  0.43  109.33   \n",
       "\n",
       "                             SR           BP     AT    RF  \n",
       "From Date                                                  \n",
       "2019-02-18 00:00:00    0.220000  1002.190000  20.87  0.00  \n",
       "2019-02-18 01:00:00    1.460000   956.000000  18.92  0.24  \n",
       "2019-02-18 02:00:00  241.906008  1001.600000  18.33  0.00  \n",
       "2019-02-18 03:00:00  241.906008  1001.410000  17.63  0.00  \n",
       "2019-02-18 04:00:00  241.906008   980.670000  16.61  0.00  \n",
       "...                         ...          ...    ...   ...  \n",
       "2022-12-30 20:00:00  241.906008  1009.220000  15.96  0.00  \n",
       "2022-12-30 21:00:00   11.170000   967.180000  14.93  0.48  \n",
       "2022-12-30 22:00:00  241.906008  1009.110000  15.22  0.00  \n",
       "2022-12-30 23:00:00    9.570000   912.740000  13.45  1.09  \n",
       "2022-12-31 00:00:00  241.906008   971.844817  14.60  0.00  \n",
       "\n",
       "[33067 rows x 18 columns]"
      ]
     },
     "execution_count": 66,
     "metadata": {},
     "output_type": "execute_result"
    }
   ],
   "source": [
    "df"
   ]
  },
  {
   "cell_type": "code",
   "execution_count": 67,
   "metadata": {},
   "outputs": [
    {
     "name": "stdout",
     "output_type": "stream",
     "text": [
      "no of outliers2368\n",
      "max outlier value 1000.0\n",
      "min outlier value 312.75\n"
     ]
    }
   ],
   "source": [
    "outliers=findoutliers(df['PM10'])\n",
    "print(\"no of outliers\"+str(len(outliers)))\n",
    "print(\"max outlier value \"+str(outliers.max()))\n",
    "print(\"min outlier value \"+str(outliers.min()))\n"
   ]
  },
  {
   "cell_type": "code",
   "execution_count": 69,
   "metadata": {},
   "outputs": [
    {
     "data": {
      "text/plain": [
       "From Date\n",
       "2019-02-18 00:00:00     81.06\n",
       "2019-02-18 01:00:00     82.39\n",
       "2019-02-18 02:00:00     73.42\n",
       "2019-02-18 03:00:00     96.04\n",
       "2019-02-18 04:00:00     97.21\n",
       "                        ...  \n",
       "2022-12-30 20:00:00    371.83\n",
       "2022-12-30 21:00:00    448.50\n",
       "2022-12-30 22:00:00    353.78\n",
       "2022-12-30 23:00:00    450.48\n",
       "2022-12-31 00:00:00    389.00\n",
       "Name: PM10, Length: 33067, dtype: float64"
      ]
     },
     "execution_count": 69,
     "metadata": {},
     "output_type": "execute_result"
    }
   ],
   "source": [
    "df1   ##PM10"
   ]
  },
  {
   "cell_type": "code",
   "execution_count": 72,
   "metadata": {},
   "outputs": [
    {
     "data": {
      "text/plain": [
       "From Date\n",
       "2019-02-21 19:00:00    438.48\n",
       "2019-02-21 20:00:00    440.13\n",
       "2019-02-21 21:00:00    331.37\n",
       "2019-02-21 22:00:00    351.45\n",
       "2019-02-21 23:00:00    327.00\n",
       "                        ...  \n",
       "2022-12-30 20:00:00    371.83\n",
       "2022-12-30 21:00:00    448.50\n",
       "2022-12-30 22:00:00    353.78\n",
       "2022-12-30 23:00:00    450.48\n",
       "2022-12-31 00:00:00    389.00\n",
       "Name: PM10, Length: 2368, dtype: float64"
      ]
     },
     "execution_count": 72,
     "metadata": {},
     "output_type": "execute_result"
    }
   ],
   "source": [
    "q3=df1.quantile(0.75)\n",
    "q1=df1.quantile(0.25)\n",
    "IQR=q3-q1\n",
    "r=q3+1.5*IQR\n",
    "df1[df1>r]\n",
    "\n",
    "##Outlier Removing\n"
   ]
  },
  {
   "cell_type": "code",
   "execution_count": 73,
   "metadata": {},
   "outputs": [
    {
     "data": {
      "text/plain": [
       "823"
      ]
     },
     "execution_count": 73,
     "metadata": {},
     "output_type": "execute_result"
    }
   ],
   "source": [
    "len(df1[df1>450])"
   ]
  },
  {
   "cell_type": "code",
   "execution_count": 74,
   "metadata": {},
   "outputs": [],
   "source": [
    "r=450\n",
    "df['PM10']=np.where(df['PM10']>r,r,df['PM10'])"
   ]
  },
  {
   "cell_type": "code",
   "execution_count": 75,
   "metadata": {},
   "outputs": [
    {
     "data": {
      "text/plain": [
       "count    33067.000000\n",
       "mean       110.101254\n",
       "std        105.795430\n",
       "min          0.500000\n",
       "25%         34.030000\n",
       "50%         71.330000\n",
       "75%        145.500000\n",
       "max        450.000000\n",
       "Name: PM10, dtype: float64"
      ]
     },
     "execution_count": 75,
     "metadata": {},
     "output_type": "execute_result"
    }
   ],
   "source": [
    "df['PM10'].describe()"
   ]
  },
  {
   "cell_type": "code",
   "execution_count": 76,
   "metadata": {},
   "outputs": [
    {
     "name": "stdout",
     "output_type": "stream",
     "text": [
      "no of outliers 2368\n",
      "max outlier value 450.0\n",
      "min outlier value 312.75\n"
     ]
    }
   ],
   "source": [
    "outliers=findoutliers(df['PM10'])\n",
    "print(\"no of outliers \"+str(len(outliers)))\n",
    "print(\"max outlier value \"+str(outliers.max()))\n",
    "print(\"min outlier value \"+str(outliers.min()))"
   ]
  },
  {
   "cell_type": "code",
   "execution_count": 77,
   "metadata": {},
   "outputs": [
    {
     "name": "stderr",
     "output_type": "stream",
     "text": [
      "C:\\Users\\SURUJ_KALITA\\anaconda3\\lib\\site-packages\\seaborn\\_decorators.py:36: FutureWarning: Pass the following variable as a keyword arg: x. From version 0.12, the only valid positional argument will be `data`, and passing other arguments without an explicit keyword will result in an error or misinterpretation.\n",
      "  warnings.warn(\n"
     ]
    },
    {
     "data": {
      "text/plain": [
       "<AxesSubplot:xlabel='PM2.5'>"
      ]
     },
     "execution_count": 77,
     "metadata": {},
     "output_type": "execute_result"
    },
    {
     "data": {
      "image/png": "[encoded data removed]",
      "text/plain": [
       "<Figure size 432x288 with 1 Axes>"
      ]
     },
     "metadata": {
      "needs_background": "light"
     },
     "output_type": "display_data"
    }
   ],
   "source": [
    "sns.boxplot(df['PM2.5'])"
   ]
  },
  {
   "cell_type": "code",
   "execution_count": 78,
   "metadata": {},
   "outputs": [
    {
     "name": "stdout",
     "output_type": "stream",
     "text": [
      "no of outliers2144\n",
      "max outlier value 923.08\n",
      "min outlier value 163.28\n"
     ]
    }
   ],
   "source": [
    "outliers=findoutliers(df['PM2.5'])\n",
    "print(\"no of outliers\"+str(len(outliers)))\n",
    "print(\"max outlier value \"+str(outliers.max()))\n",
    "print(\"min outlier value \"+str(outliers.min()))\n"
   ]
  },
  {
   "cell_type": "code",
   "execution_count": 80,
   "metadata": {},
   "outputs": [],
   "source": [
    "df2=df['PM2.5']\n"
   ]
  },
  {
   "cell_type": "code",
   "execution_count": 81,
   "metadata": {},
   "outputs": [
    {
     "data": {
      "text/plain": [
       "From Date\n",
       "2019-02-21 19:00:00    260.10\n",
       "2019-02-21 20:00:00    263.81\n",
       "2019-02-21 21:00:00    203.58\n",
       "2019-02-21 22:00:00    217.14\n",
       "2019-02-21 23:00:00    194.00\n",
       "                        ...  \n",
       "2022-12-30 20:00:00    295.72\n",
       "2022-12-30 21:00:00    362.60\n",
       "2022-12-30 22:00:00    277.86\n",
       "2022-12-30 23:00:00    380.00\n",
       "2022-12-31 00:00:00    295.00\n",
       "Name: PM2.5, Length: 2144, dtype: float64"
      ]
     },
     "execution_count": 81,
     "metadata": {},
     "output_type": "execute_result"
    }
   ],
   "source": [
    "q3=df2.quantile(0.75)\n",
    "q1=df2.quantile(0.25)\n",
    "IQR=q3-q1\n",
    "r=q3+1.5*IQR\n",
    "df2[df2>r]"
   ]
  },
  {
   "cell_type": "code",
   "execution_count": 82,
   "metadata": {},
   "outputs": [
    {
     "data": {
      "text/plain": [
       "53"
      ]
     },
     "execution_count": 82,
     "metadata": {},
     "output_type": "execute_result"
    }
   ],
   "source": [
    "len(df2[df2>450])"
   ]
  },
  {
   "cell_type": "code",
   "execution_count": 84,
   "metadata": {},
   "outputs": [],
   "source": [
    "r=450\n",
    "df['PM2.5']=np.where(df['PM2.5']>r,r,df['PM2.5'])\n",
    "\n",
    "#r = 450: This sets the value of r to 450, which is the maximum value you want to use to cap the \n",
    "#'PM2.5' column."
   ]
  },
  {
   "cell_type": "code",
   "execution_count": 85,
   "metadata": {},
   "outputs": [
    {
     "data": {
      "text/plain": [
       "count    33067.000000\n",
       "mean        59.371408\n",
       "std         60.257267\n",
       "min          0.060000\n",
       "25%         18.900000\n",
       "50%         39.750000\n",
       "75%         76.640000\n",
       "max        450.000000\n",
       "Name: PM2.5, dtype: float64"
      ]
     },
     "execution_count": 85,
     "metadata": {},
     "output_type": "execute_result"
    }
   ],
   "source": [
    "df['PM2.5'].describe()"
   ]
  },
  {
   "cell_type": "code",
   "execution_count": 90,
   "metadata": {},
   "outputs": [
    {
     "name": "stderr",
     "output_type": "stream",
     "text": [
      "C:\\Users\\SURUJ_KALITA\\anaconda3\\lib\\site-packages\\seaborn\\_decorators.py:36: FutureWarning: Pass the following variable as a keyword arg: x. From version 0.12, the only valid positional argument will be `data`, and passing other arguments without an explicit keyword will result in an error or misinterpretation.\n",
      "  warnings.warn(\n"
     ]
    },
    {
     "data": {
      "text/plain": [
       "<AxesSubplot:xlabel='PM2.5'>"
      ]
     },
     "execution_count": 90,
     "metadata": {},
     "output_type": "execute_result"
    },
    {
     "data": {
      "image/png": "[encoded data removed]",
      "text/plain": [
       "<Figure size 432x288 with 1 Axes>"
      ]
     },
     "metadata": {
      "needs_background": "light"
     },
     "output_type": "display_data"
    }
   ],
   "source": [
    "sns.boxplot(df['PM2.5'])"
   ]
  },
  {
   "cell_type": "code",
   "execution_count": 91,
   "metadata": {},
   "outputs": [
    {
     "name": "stderr",
     "output_type": "stream",
     "text": [
      "C:\\Users\\SURUJ_KALITA\\anaconda3\\lib\\site-packages\\seaborn\\_decorators.py:36: FutureWarning: Pass the following variable as a keyword arg: x. From version 0.12, the only valid positional argument will be `data`, and passing other arguments without an explicit keyword will result in an error or misinterpretation.\n",
      "  warnings.warn(\n"
     ]
    },
    {
     "data": {
      "text/plain": [
       "<AxesSubplot:xlabel='NO2'>"
      ]
     },
     "execution_count": 91,
     "metadata": {},
     "output_type": "execute_result"
    },
    {
     "data": {
      "image/png": "[encoded data removed]",
      "text/plain": [
       "<Figure size 432x288 with 1 Axes>"
      ]
     },
     "metadata": {
      "needs_background": "light"
     },
     "output_type": "display_data"
    }
   ],
   "source": [
    "sns.boxplot(df['NO2'])"
   ]
  },
  {
   "cell_type": "code",
   "execution_count": 92,
   "metadata": {},
   "outputs": [
    {
     "name": "stdout",
     "output_type": "stream",
     "text": [
      "no of outliers2297\n",
      "max outlier value 107.04\n",
      "min outlier value 26.44\n"
     ]
    }
   ],
   "source": [
    "outliers=findoutliers(df['NO2'])\n",
    "print(\"no of outliers\"+str(len(outliers)))\n",
    "print(\"max outlier value \"+str(outliers.max()))\n",
    "print(\"min outlier value \"+str(outliers.min()))\n"
   ]
  },
  {
   "cell_type": "code",
   "execution_count": 93,
   "metadata": {},
   "outputs": [],
   "source": [
    "df3=df['NO2']\n"
   ]
  },
  {
   "cell_type": "code",
   "execution_count": 94,
   "metadata": {},
   "outputs": [
    {
     "data": {
      "text/plain": [
       "From Date\n",
       "2019-02-20 20:00:00    30.09\n",
       "2019-02-21 18:00:00    32.60\n",
       "2019-02-21 19:00:00    35.39\n",
       "2019-02-21 20:00:00    31.88\n",
       "2019-02-22 12:00:00    28.63\n",
       "                       ...  \n",
       "2021-04-30 18:00:00    44.28\n",
       "2021-04-30 19:00:00    45.46\n",
       "2021-02-05 21:00:00    37.77\n",
       "2021-02-05 22:00:00    40.99\n",
       "2021-02-05 23:00:00    34.23\n",
       "Name: NO2, Length: 2297, dtype: float64"
      ]
     },
     "execution_count": 94,
     "metadata": {},
     "output_type": "execute_result"
    }
   ],
   "source": [
    "q3=df3.quantile(0.75)\n",
    "q1=df3.quantile(0.25)\n",
    "IQR=q3-q1\n",
    "r=q3+1.5*IQR\n",
    "df3[df3>r]  \n",
    "\n",
    "##Removing outiers"
   ]
  },
  {
   "cell_type": "code",
   "execution_count": 96,
   "metadata": {},
   "outputs": [
    {
     "data": {
      "text/plain": [
       "71"
      ]
     },
     "execution_count": 96,
     "metadata": {},
     "output_type": "execute_result"
    }
   ],
   "source": [
    "len(df3[df3>80])"
   ]
  },
  {
   "cell_type": "code",
   "execution_count": 98,
   "metadata": {},
   "outputs": [],
   "source": [
    "r=80\n",
    "df['NO2']=np.where(df['NO2']>r,r,df['NO2'])\n",
    "\n",
    "#r = 450: This sets the value of r to 450, which is the maximum value you want to use to cap the 'PM2.5' column."
   ]
  },
  {
   "cell_type": "code",
   "execution_count": 99,
   "metadata": {},
   "outputs": [
    {
     "data": {
      "text/plain": [
       "count    33067.000000\n",
       "mean         9.816523\n",
       "std         10.957694\n",
       "min          0.020000\n",
       "25%          2.690000\n",
       "50%          5.770000\n",
       "75%         12.190000\n",
       "max         80.000000\n",
       "Name: NO2, dtype: float64"
      ]
     },
     "execution_count": 99,
     "metadata": {},
     "output_type": "execute_result"
    }
   ],
   "source": [
    "df['NO2'].describe()"
   ]
  },
  {
   "cell_type": "code",
   "execution_count": 100,
   "metadata": {},
   "outputs": [
    {
     "name": "stderr",
     "output_type": "stream",
     "text": [
      "C:\\Users\\SURUJ_KALITA\\anaconda3\\lib\\site-packages\\seaborn\\_decorators.py:36: FutureWarning: Pass the following variable as a keyword arg: x. From version 0.12, the only valid positional argument will be `data`, and passing other arguments without an explicit keyword will result in an error or misinterpretation.\n",
      "  warnings.warn(\n"
     ]
    },
    {
     "data": {
      "text/plain": [
       "<AxesSubplot:xlabel='SO2'>"
      ]
     },
     "execution_count": 100,
     "metadata": {},
     "output_type": "execute_result"
    },
    {
     "data": {
      "image/png": "[encoded data removed]",
      "text/plain": [
       "<Figure size 432x288 with 1 Axes>"
      ]
     },
     "metadata": {
      "needs_background": "light"
     },
     "output_type": "display_data"
    }
   ],
   "source": [
    "sns.boxplot(df['SO2'])\n"
   ]
  },
  {
   "cell_type": "code",
   "execution_count": 101,
   "metadata": {},
   "outputs": [],
   "source": [
    "\n",
    "df4=df['SO2']"
   ]
  },
  {
   "cell_type": "code",
   "execution_count": 102,
   "metadata": {},
   "outputs": [],
   "source": [
    "\n",
    "r=80\n",
    "df['SO2']=np.where(df['SO2']>r,r,df['SO2'])"
   ]
  },
  {
   "cell_type": "code",
   "execution_count": 103,
   "metadata": {},
   "outputs": [
    {
     "name": "stderr",
     "output_type": "stream",
     "text": [
      "C:\\Users\\SURUJ_KALITA\\anaconda3\\lib\\site-packages\\seaborn\\_decorators.py:36: FutureWarning: Pass the following variable as a keyword arg: x. From version 0.12, the only valid positional argument will be `data`, and passing other arguments without an explicit keyword will result in an error or misinterpretation.\n",
      "  warnings.warn(\n"
     ]
    },
    {
     "data": {
      "text/plain": [
       "<AxesSubplot:xlabel='SO2'>"
      ]
     },
     "execution_count": 103,
     "metadata": {},
     "output_type": "execute_result"
    },
    {
     "data": {
      "image/png": "[encoded data removed]",
      "text/plain": [
       "<Figure size 432x288 with 1 Axes>"
      ]
     },
     "metadata": {
      "needs_background": "light"
     },
     "output_type": "display_data"
    }
   ],
   "source": [
    "sns.boxplot(df['SO2'])"
   ]
  },
  {
   "cell_type": "code",
   "execution_count": 104,
   "metadata": {},
   "outputs": [
    {
     "name": "stderr",
     "output_type": "stream",
     "text": [
      "C:\\Users\\SURUJ_KALITA\\anaconda3\\lib\\site-packages\\seaborn\\_decorators.py:36: FutureWarning: Pass the following variable as a keyword arg: x. From version 0.12, the only valid positional argument will be `data`, and passing other arguments without an explicit keyword will result in an error or misinterpretation.\n",
      "  warnings.warn(\n"
     ]
    },
    {
     "data": {
      "text/plain": [
       "<AxesSubplot:xlabel='AT'>"
      ]
     },
     "execution_count": 104,
     "metadata": {},
     "output_type": "execute_result"
    },
    {
     "data": {
      "image/png": "[encoded data removed]",
      "text/plain": [
       "<Figure size 432x288 with 1 Axes>"
      ]
     },
     "metadata": {
      "needs_background": "light"
     },
     "output_type": "display_data"
    }
   ],
   "source": [
    "\n",
    "sns.boxplot(df['AT'])"
   ]
  },
  {
   "cell_type": "code",
   "execution_count": 105,
   "metadata": {},
   "outputs": [],
   "source": [
    "r=12\n",
    "df['AT']=np.where(df['AT']<r,r,df['AT'])"
   ]
  },
  {
   "cell_type": "code",
   "execution_count": 106,
   "metadata": {},
   "outputs": [
    {
     "name": "stderr",
     "output_type": "stream",
     "text": [
      "C:\\Users\\SURUJ_KALITA\\anaconda3\\lib\\site-packages\\seaborn\\_decorators.py:36: FutureWarning: Pass the following variable as a keyword arg: x. From version 0.12, the only valid positional argument will be `data`, and passing other arguments without an explicit keyword will result in an error or misinterpretation.\n",
      "  warnings.warn(\n"
     ]
    },
    {
     "data": {
      "text/plain": [
       "<AxesSubplot:xlabel='AT'>"
      ]
     },
     "execution_count": 106,
     "metadata": {},
     "output_type": "execute_result"
    },
    {
     "data": {
      "image/png": "[encoded data removed]",
      "text/plain": [
       "<Figure size 432x288 with 1 Axes>"
      ]
     },
     "metadata": {
      "needs_background": "light"
     },
     "output_type": "display_data"
    }
   ],
   "source": [
    "sns.boxplot(df['AT'])"
   ]
  },
  {
   "cell_type": "code",
   "execution_count": 107,
   "metadata": {},
   "outputs": [
    {
     "data": {
      "text/html": [
       "<div>\n",
       "<style scoped>\n",
       "    .dataframe tbody tr th:only-of-type {\n",
       "        vertical-align: middle;\n",
       "    }\n",
       "\n",
       "    .dataframe tbody tr th {\n",
       "        vertical-align: top;\n",
       "    }\n",
       "\n",
       "    .dataframe thead th {\n",
       "        text-align: right;\n",
       "    }\n",
       "</style>\n",
       "<table border=\"1\" class=\"dataframe\">\n",
       "  <thead>\n",
       "    <tr style=\"text-align: right;\">\n",
       "      <th></th>\n",
       "      <th>PM2.5</th>\n",
       "      <th>PM10</th>\n",
       "      <th>NO</th>\n",
       "      <th>NO2</th>\n",
       "      <th>Nox</th>\n",
       "      <th>NH3</th>\n",
       "      <th>SO2</th>\n",
       "      <th>CO</th>\n",
       "      <th>Ozone</th>\n",
       "      <th>Benzene</th>\n",
       "      <th>Eth-Benzene</th>\n",
       "      <th>MP-Xylene</th>\n",
       "      <th>WS</th>\n",
       "      <th>WD</th>\n",
       "      <th>SR</th>\n",
       "      <th>BP</th>\n",
       "      <th>AT</th>\n",
       "      <th>RF</th>\n",
       "    </tr>\n",
       "    <tr>\n",
       "      <th>From Date</th>\n",
       "      <th></th>\n",
       "      <th></th>\n",
       "      <th></th>\n",
       "      <th></th>\n",
       "      <th></th>\n",
       "      <th></th>\n",
       "      <th></th>\n",
       "      <th></th>\n",
       "      <th></th>\n",
       "      <th></th>\n",
       "      <th></th>\n",
       "      <th></th>\n",
       "      <th></th>\n",
       "      <th></th>\n",
       "      <th></th>\n",
       "      <th></th>\n",
       "      <th></th>\n",
       "      <th></th>\n",
       "    </tr>\n",
       "  </thead>\n",
       "  <tbody>\n",
       "    <tr>\n",
       "      <th>2019-02-18 00:00:00</th>\n",
       "      <td>58.04</td>\n",
       "      <td>81.06</td>\n",
       "      <td>1.81</td>\n",
       "      <td>6.40</td>\n",
       "      <td>9.66</td>\n",
       "      <td>27.18</td>\n",
       "      <td>13.77</td>\n",
       "      <td>0.49</td>\n",
       "      <td>15.73</td>\n",
       "      <td>0.92</td>\n",
       "      <td>NaN</td>\n",
       "      <td>0.33</td>\n",
       "      <td>1.86</td>\n",
       "      <td>229.44</td>\n",
       "      <td>0.220000</td>\n",
       "      <td>1002.19</td>\n",
       "      <td>20.87</td>\n",
       "      <td>0.00</td>\n",
       "    </tr>\n",
       "    <tr>\n",
       "      <th>2019-02-18 01:00:00</th>\n",
       "      <td>60.00</td>\n",
       "      <td>82.39</td>\n",
       "      <td>1.91</td>\n",
       "      <td>6.08</td>\n",
       "      <td>9.7</td>\n",
       "      <td>26.46</td>\n",
       "      <td>13.64</td>\n",
       "      <td>0.44</td>\n",
       "      <td>18.36</td>\n",
       "      <td>0.84</td>\n",
       "      <td>NaN</td>\n",
       "      <td>0.29</td>\n",
       "      <td>1.54</td>\n",
       "      <td>217.20</td>\n",
       "      <td>1.460000</td>\n",
       "      <td>956.00</td>\n",
       "      <td>18.92</td>\n",
       "      <td>0.24</td>\n",
       "    </tr>\n",
       "    <tr>\n",
       "      <th>2019-02-18 02:00:00</th>\n",
       "      <td>55.50</td>\n",
       "      <td>73.42</td>\n",
       "      <td>2.22</td>\n",
       "      <td>6.71</td>\n",
       "      <td>10.86</td>\n",
       "      <td>27.06</td>\n",
       "      <td>13.64</td>\n",
       "      <td>0.44</td>\n",
       "      <td>34.54</td>\n",
       "      <td>0.77</td>\n",
       "      <td>NaN</td>\n",
       "      <td>0.23</td>\n",
       "      <td>0.66</td>\n",
       "      <td>197.21</td>\n",
       "      <td>241.906008</td>\n",
       "      <td>1001.60</td>\n",
       "      <td>18.33</td>\n",
       "      <td>0.00</td>\n",
       "    </tr>\n",
       "    <tr>\n",
       "      <th>2019-02-18 03:00:00</th>\n",
       "      <td>66.56</td>\n",
       "      <td>96.04</td>\n",
       "      <td>2.79</td>\n",
       "      <td>7.00</td>\n",
       "      <td>12.1</td>\n",
       "      <td>26.34</td>\n",
       "      <td>13.72</td>\n",
       "      <td>0.45</td>\n",
       "      <td>31.85</td>\n",
       "      <td>0.82</td>\n",
       "      <td>NaN</td>\n",
       "      <td>0.21</td>\n",
       "      <td>0.61</td>\n",
       "      <td>206.44</td>\n",
       "      <td>241.906008</td>\n",
       "      <td>1001.41</td>\n",
       "      <td>17.63</td>\n",
       "      <td>0.00</td>\n",
       "    </tr>\n",
       "    <tr>\n",
       "      <th>2019-02-18 04:00:00</th>\n",
       "      <td>67.08</td>\n",
       "      <td>97.21</td>\n",
       "      <td>3.29</td>\n",
       "      <td>9.45</td>\n",
       "      <td>15.53</td>\n",
       "      <td>25.16</td>\n",
       "      <td>13.80</td>\n",
       "      <td>0.47</td>\n",
       "      <td>24.07</td>\n",
       "      <td>0.74</td>\n",
       "      <td>NaN</td>\n",
       "      <td>0.22</td>\n",
       "      <td>0.54</td>\n",
       "      <td>230.53</td>\n",
       "      <td>241.906008</td>\n",
       "      <td>980.67</td>\n",
       "      <td>16.61</td>\n",
       "      <td>0.00</td>\n",
       "    </tr>\n",
       "  </tbody>\n",
       "</table>\n",
       "</div>"
      ],
      "text/plain": [
       "                     PM2.5   PM10    NO   NO2    Nox    NH3    SO2    CO  \\\n",
       "From Date                                                                  \n",
       "2019-02-18 00:00:00  58.04  81.06  1.81  6.40   9.66  27.18  13.77  0.49   \n",
       "2019-02-18 01:00:00  60.00  82.39  1.91  6.08    9.7  26.46  13.64  0.44   \n",
       "2019-02-18 02:00:00  55.50  73.42  2.22  6.71  10.86  27.06  13.64  0.44   \n",
       "2019-02-18 03:00:00  66.56  96.04  2.79  7.00   12.1  26.34  13.72  0.45   \n",
       "2019-02-18 04:00:00  67.08  97.21  3.29  9.45  15.53  25.16  13.80  0.47   \n",
       "\n",
       "                     Ozone Benzene Eth-Benzene MP-Xylene    WS      WD  \\\n",
       "From Date                                                                \n",
       "2019-02-18 00:00:00  15.73    0.92         NaN      0.33  1.86  229.44   \n",
       "2019-02-18 01:00:00  18.36    0.84         NaN      0.29  1.54  217.20   \n",
       "2019-02-18 02:00:00  34.54    0.77         NaN      0.23  0.66  197.21   \n",
       "2019-02-18 03:00:00  31.85    0.82         NaN      0.21  0.61  206.44   \n",
       "2019-02-18 04:00:00  24.07    0.74         NaN      0.22  0.54  230.53   \n",
       "\n",
       "                             SR       BP     AT    RF  \n",
       "From Date                                              \n",
       "2019-02-18 00:00:00    0.220000  1002.19  20.87  0.00  \n",
       "2019-02-18 01:00:00    1.460000   956.00  18.92  0.24  \n",
       "2019-02-18 02:00:00  241.906008  1001.60  18.33  0.00  \n",
       "2019-02-18 03:00:00  241.906008  1001.41  17.63  0.00  \n",
       "2019-02-18 04:00:00  241.906008   980.67  16.61  0.00  "
      ]
     },
     "execution_count": 107,
     "metadata": {},
     "output_type": "execute_result"
    }
   ],
   "source": [
    "df.head()"
   ]
  },
  {
   "cell_type": "code",
   "execution_count": 111,
   "metadata": {},
   "outputs": [
    {
     "data": {
      "text/plain": [
       "(33067, 18)"
      ]
     },
     "execution_count": 111,
     "metadata": {},
     "output_type": "execute_result"
    }
   ],
   "source": [
    "df.shape\n",
    "## rows and column "
   ]
  },
  {
   "cell_type": "code",
   "execution_count": null,
   "metadata": {},
   "outputs": [],
   "source": [
    "https://www.kaggle.com/code/ttunjic/gans-for-tabular-data\n",
    "\n",
    "##ON CENSUS DATASETS"
   ]
  }
 ],
 "metadata": {
  "kernelspec": {
   "display_name": "Python 3 (ipykernel)",
   "language": "python",
   "name": "python3"
  },
  "language_info": {
   "codemirror_mode": {
    "name": "ipython",
    "version": 3
   },
   "file_extension": ".py",
   "mimetype": "text/x-python",
   "name": "python",
   "nbconvert_exporter": "python",
   "pygments_lexer": "ipython3",
   "version": "3.10.7"
  },
  "vscode": {
   "interpreter": {
    "hash": "3c06e3e46abf38078fe4dac36a0085ec2b134ebbd73dd076183d243eeca6918f"
   }
  }
 },
 "nbformat": 4,
 "nbformat_minor": 2
}
